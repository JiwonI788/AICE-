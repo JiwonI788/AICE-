{
 "cells": [
  {
   "cell_type": "markdown",
   "metadata": {},
   "source": [
    "VQE "
   ]
  },
  {
   "cell_type": "code",
   "execution_count": 4,
   "metadata": {},
   "outputs": [
    {
     "name": "stdout",
     "output_type": "stream",
     "text": [
      "Name: qiskit-nature\n",
      "Version: 0.7.2\n",
      "Summary: Qiskit Nature: A library of quantum computing chemistry/physics experiments\n",
      "Home-page: https://github.com/Qiskit/qiskit-nature\n",
      "Author: Qiskit Nature Development Team\n",
      "Author-email: qiskit@us.ibm.com\n",
      "License: Apache-2.0\n",
      "Location: /Users/jiwonju/anaconda3/envs/qml1w/lib/python3.9/site-packages\n",
      "Requires: h5py, numpy, psutil, qiskit, qiskit-algorithms, rustworkx, scipy, setuptools, typing-extensions\n",
      "Required-by: \n",
      "---\n",
      "Name: qiskit\n",
      "Version: 1.3.1\n",
      "Summary: An open-source SDK for working with quantum computers at the level of extended quantum circuits, operators, and primitives.\n",
      "Home-page: https://www.ibm.com/quantum/qiskit\n",
      "Author: \n",
      "Author-email: Qiskit Development Team <qiskit@us.ibm.com>\n",
      "License: Apache 2.0\n",
      "Location: /Users/jiwonju/anaconda3/envs/qml1w/lib/python3.9/site-packages\n",
      "Requires: dill, numpy, python-dateutil, rustworkx, scipy, stevedore, symengine, sympy, typing-extensions\n",
      "Required-by: qiskit-aer, qiskit-algorithms, qiskit-machine-learning, qiskit-nature\n"
     ]
    }
   ],
   "source": [
    "!pip show qiskit_nature qiskit"
   ]
  },
  {
   "cell_type": "code",
   "execution_count": 5,
   "metadata": {},
   "outputs": [
    {
     "ename": "ImportError",
     "evalue": "cannot import name 'QubitConverter' from 'qiskit_nature.second_q.mappers' (/Users/jiwonju/anaconda3/envs/qml1w/lib/python3.9/site-packages/qiskit_nature/second_q/mappers/__init__.py)",
     "output_type": "error",
     "traceback": [
      "\u001b[0;31m---------------------------------------------------------------------------\u001b[0m",
      "\u001b[0;31mImportError\u001b[0m                               Traceback (most recent call last)",
      "Cell \u001b[0;32mIn[5], line 3\u001b[0m\n\u001b[1;32m      1\u001b[0m \u001b[38;5;28;01mfrom\u001b[39;00m\u001b[38;5;250m \u001b[39m\u001b[38;5;21;01mqiskit_nature\u001b[39;00m\u001b[38;5;21;01m.\u001b[39;00m\u001b[38;5;21;01msecond_q\u001b[39;00m\u001b[38;5;21;01m.\u001b[39;00m\u001b[38;5;21;01mdrivers\u001b[39;00m\u001b[38;5;250m \u001b[39m\u001b[38;5;28;01mimport\u001b[39;00m PySCFDriver\n\u001b[1;32m      2\u001b[0m \u001b[38;5;28;01mfrom\u001b[39;00m\u001b[38;5;250m \u001b[39m\u001b[38;5;21;01mqiskit_nature\u001b[39;00m\u001b[38;5;21;01m.\u001b[39;00m\u001b[38;5;21;01msecond_q\u001b[39;00m\u001b[38;5;21;01m.\u001b[39;00m\u001b[38;5;21;01mproblems\u001b[39;00m\u001b[38;5;250m \u001b[39m\u001b[38;5;28;01mimport\u001b[39;00m ElectronicStructureProblem\n\u001b[0;32m----> 3\u001b[0m \u001b[38;5;28;01mfrom\u001b[39;00m\u001b[38;5;250m \u001b[39m\u001b[38;5;21;01mqiskit_nature\u001b[39;00m\u001b[38;5;21;01m.\u001b[39;00m\u001b[38;5;21;01msecond_q\u001b[39;00m\u001b[38;5;21;01m.\u001b[39;00m\u001b[38;5;21;01mmappers\u001b[39;00m\u001b[38;5;250m \u001b[39m\u001b[38;5;28;01mimport\u001b[39;00m JordanWignerMapper, QubitConverter\n\u001b[1;32m      5\u001b[0m \u001b[38;5;28;01mfrom\u001b[39;00m\u001b[38;5;250m \u001b[39m\u001b[38;5;21;01mqiskit_nature\u001b[39;00m\u001b[38;5;21;01m.\u001b[39;00m\u001b[38;5;21;01malgorithms\u001b[39;00m\u001b[38;5;250m \u001b[39m\u001b[38;5;28;01mimport\u001b[39;00m GroundStateEigensolver\n\u001b[1;32m      6\u001b[0m \u001b[38;5;28;01mfrom\u001b[39;00m\u001b[38;5;250m \u001b[39m\u001b[38;5;21;01mqiskit\u001b[39;00m\u001b[38;5;21;01m.\u001b[39;00m\u001b[38;5;21;01malgorithms\u001b[39;00m\u001b[38;5;21;01m.\u001b[39;00m\u001b[38;5;21;01moptimizers\u001b[39;00m\u001b[38;5;250m \u001b[39m\u001b[38;5;28;01mimport\u001b[39;00m COBYLA\n",
      "\u001b[0;31mImportError\u001b[0m: cannot import name 'QubitConverter' from 'qiskit_nature.second_q.mappers' (/Users/jiwonju/anaconda3/envs/qml1w/lib/python3.9/site-packages/qiskit_nature/second_q/mappers/__init__.py)"
     ]
    }
   ],
   "source": [
    "from qiskit_nature.second_q.drivers import PySCFDriver\n",
    "from qiskit_nature.second_q.problems import ElectronicStructureProblem\n",
    "from qiskit_nature.second_q.mappers import JordanWignerMapper, QubitConverter\n",
    "\n",
    "from qiskit_nature.algorithms import GroundStateEigensolver\n",
    "from qiskit.algorithms.optimizers import COBYLA\n",
    "from qiskit.circuit.library import TwoLocal\n",
    "from qiskit.algorithms import VQE\n",
    "\n",
    "from qiskit.primitives import Estimator\n",
    "from qiskit_aer.primitives import Estimator as AerEstimator\n",
    "\n",
    "# 1. 수소 분자 정의 (angstrom 단위, sto3g basis set)\n",
    "driver = PySCFDriver(atom='H 0 0 0; H 0 0 0.735', basis='sto3g')\n",
    "\n",
    "# 2. 문제 정의\n",
    "es_problem = ElectronicStructureProblem(driver)\n",
    "\n",
    "# 3. 두 번째 양자화 연산자 (Fermionic Hamiltonian)\n",
    "second_q_op = es_problem.second_q_ops()\n",
    "main_op = second_q_op[0]\n",
    "\n",
    "# 4. 매핑: Jordan-Wigner → Qubit 해밀토니안\n",
    "mapper = JordanWignerMapper()\n",
    "converter = QubitConverter(mapper=mapper)\n",
    "qubit_op = converter.convert(main_op, es_problem.num_particles)\n",
    "\n",
    "# 5. Ansatz와 Optimizer 설정\n",
    "ansatz = TwoLocal(qubit_op.num_qubits, ['ry', 'rz'], 'cx', reps=1)\n",
    "optimizer = COBYLA(maxiter=100)\n",
    "estimator = AerEstimator()  # AER 백엔드 사용\n",
    "\n",
    "# 6. VQE 정의 및 실행\n",
    "vqe_solver = VQE(ansatz=ansatz, optimizer=optimizer, estimator=estimator)\n",
    "result = vqe_solver.compute_minimum_eigenvalue(qubit_op)\n",
    "\n",
    "# 7. 결과 출력\n",
    "print(\"H₂ 분자의 바닥상태 에너지 (VQE):\", result.eigenvalue.real)\n"
   ]
  }
 ],
 "metadata": {
  "kernelspec": {
   "display_name": "qml1w",
   "language": "python",
   "name": "python3"
  },
  "language_info": {
   "codemirror_mode": {
    "name": "ipython",
    "version": 3
   },
   "file_extension": ".py",
   "mimetype": "text/x-python",
   "name": "python",
   "nbconvert_exporter": "python",
   "pygments_lexer": "ipython3",
   "version": "3.9.21"
  }
 },
 "nbformat": 4,
 "nbformat_minor": 2
}
