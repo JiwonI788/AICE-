{
 "cells": [
  {
   "cell_type": "markdown",
   "metadata": {},
   "source": [
    "## 6. VQE로 수소 분자 에너지 \n",
    "\n",
    "VQE 를 이용해서 분자별 에너지를 계산한 데이터를 추출하였습니다.\n",
    "- H, LiH, BeH2 기저에너지\n",
    "\n",
    "\n",
    "### 🙏 참고한 자료\n",
    "- [qiskit - Quantum Kernel Machine Learning](https://qiskit-community.github.io/qiskit-machine-learning/tutorials/03_quantum_kernel.html)"
   ]
  },
  {
   "cell_type": "code",
   "execution_count": 12,
   "metadata": {},
   "outputs": [
    {
     "name": "stdout",
     "output_type": "stream",
     "text": [
      "H₂ 분자의 바닥상태 에너지 (VQE): -1.8284225221348807\n"
     ]
    }
   ],
   "source": [
    "# 수소 분자 에너지 계산\n",
    "from qiskit_nature.second_q.drivers import PySCFDriver\n",
    "from qiskit_nature.second_q.problems import ElectronicStructureProblem\n",
    "from qiskit_nature.second_q.mappers import JordanWignerMapper\n",
    "\n",
    "from qiskit_algorithms import VQE\n",
    "from qiskit_algorithms.optimizers import COBYLA\n",
    "from qiskit.circuit.library import TwoLocal\n",
    "from qiskit_aer.primitives import Estimator as AerEstimator\n",
    "\n",
    "# 1. 수소 분자 설정\n",
    "driver = PySCFDriver(atom='H 0 0 0; H 0 0 0.735', basis='sto3g')\n",
    "problem = driver.run()\n",
    "# for label, coeff in sorted(hamiltonian.items()):\n",
    "#     print(f\"{coeff:+.8f} * '{label}'\")\n",
    "    \n",
    "# 2. Second-quantized Hamiltonian 생성\n",
    "second_q_ops = problem.second_q_ops()\n",
    "main_op = second_q_ops[0]\n",
    "# hamiltonian = problem.hamiltonian.second_q_op()\n",
    "\n",
    "# 3. 매핑: Jordan-Wigner → Qubit 연산자\n",
    "mapper = JordanWignerMapper()\n",
    "qubit_op = mapper.map(main_op)#hamiltonian\n",
    "\n",
    "# 4. Ansatz 및 Optimizer\n",
    "ansatz = TwoLocal(qubit_op.num_qubits, ['ry', 'rz'], 'cx', reps=1)\n",
    "optimizer = COBYLA(maxiter=100)\n",
    "estimator = AerEstimator()  # Qiskit Aer 백엔드 사용\n",
    "\n",
    "# 5. VQE 실행\n",
    "vqe_solver = VQE(ansatz=ansatz, optimizer=optimizer, estimator=estimator)\n",
    "result = vqe_solver.compute_minimum_eigenvalue(qubit_op)\n",
    "\n",
    "# 6. 결과 출력\n",
    "print(\"H₂ 분자의 바닥상태 에너지 (VQE):\", result.eigenvalue.real)\n"
   ]
  },
  {
   "cell_type": "code",
   "execution_count": 13,
   "metadata": {},
   "outputs": [
    {
     "name": "stdout",
     "output_type": "stream",
     "text": [
      "(FermionicOp({'+_0 -_0': np.float64(-1.25633907300325), '+_1 -_1': np.float64(-0.471896007281142), '+_2 -_2': np.float64(-1.25633907300325), '+_3 -_3': np.float64(-0.471896007281142), '+_0 +_0 -_0 -_0': np.float64(0.3378550774017582), '+_0 +_1 -_1 -_0': np.float64(0.3322908651276483), '+_0 +_2 -_2 -_0': np.float64(0.3378550774017582), '+_0 +_3 -_3 -_0': np.float64(0.3322908651276483), '+_0 +_0 -_1 -_1': np.float64(0.09046559989211571), '+_0 +_1 -_0 -_1': np.float64(0.09046559989211571), '+_0 +_2 -_3 -_1': np.float64(0.09046559989211571), '+_0 +_3 -_2 -_1': np.float64(0.09046559989211571), '+_1 +_0 -_1 -_0': np.float64(0.09046559989211571), '+_1 +_1 -_0 -_0': np.float64(0.09046559989211571), '+_1 +_2 -_3 -_0': np.float64(0.09046559989211571), '+_1 +_3 -_2 -_0': np.float64(0.09046559989211571), '+_1 +_0 -_0 -_1': np.float64(0.3322908651276483), '+_1 +_1 -_1 -_1': np.float64(0.3492868613660083), '+_1 +_2 -_2 -_1': np.float64(0.3322908651276483), '+_1 +_3 -_3 -_1': np.float64(0.3492868613660083), '+_2 +_0 -_0 -_2': np.float64(0.3378550774017582), '+_2 +_1 -_1 -_2': np.float64(0.3322908651276483), '+_2 +_2 -_2 -_2': np.float64(0.3378550774017582), '+_2 +_3 -_3 -_2': np.float64(0.3322908651276483), '+_2 +_0 -_1 -_3': np.float64(0.09046559989211571), '+_2 +_1 -_0 -_3': np.float64(0.09046559989211571), '+_2 +_2 -_3 -_3': np.float64(0.09046559989211571), '+_2 +_3 -_2 -_3': np.float64(0.09046559989211571), '+_3 +_0 -_1 -_2': np.float64(0.09046559989211571), '+_3 +_1 -_0 -_2': np.float64(0.09046559989211571), '+_3 +_2 -_3 -_2': np.float64(0.09046559989211571), '+_3 +_3 -_2 -_2': np.float64(0.09046559989211571), '+_3 +_0 -_0 -_3': np.float64(0.3322908651276483), '+_3 +_1 -_1 -_3': np.float64(0.3492868613660083), '+_3 +_2 -_2 -_3': np.float64(0.3322908651276483), '+_3 +_3 -_3 -_3': np.float64(0.3492868613660083)}, num_spin_orbitals=4, ), {'AngularMomentum': FermionicOp({'+_0 -_0': (0.5+0j), '+_0 +_2 -_0 -_2': (1+0j), '+_0 +_3 -_1 -_2': (1+0j), '+_1 +_2 -_0 -_3': (1+0j), '+_1 -_1': (0.5+0j), '+_1 +_3 -_1 -_3': (1+0j), '+_2 -_2': (0.5+0j), '+_3 -_3': (0.5+0j), '+_0 -_0 +_3 -_3': -0.25, '+_3 -_3 +_1 -_1': -0.25, '+_2 -_2 +_1 -_1': -0.25, '+_1 -_1 +_3 -_3': -0.25, '+_1 -_1 +_1 -_1': 0.25, '+_0 -_0 +_0 -_0': 0.25, '+_2 -_2 +_3 -_3': 0.25, '+_3 -_3 +_3 -_3': 0.25, '+_1 -_1 +_0 -_0': 0.25, '+_2 -_2 +_2 -_2': 0.25, '+_1 -_1 +_2 -_2': -0.25, '+_0 -_0 +_1 -_1': 0.25, '+_2 -_2 +_0 -_0': -0.25, '+_0 -_0 +_2 -_2': -0.25, '+_3 -_3 +_0 -_0': -0.25, '+_3 -_3 +_2 -_2': 0.25}, num_spin_orbitals=4, ), 'Magnetization': FermionicOp({'+_0 -_0': 0.5, '+_1 -_1': 0.5, '+_2 -_2': -0.5, '+_3 -_3': -0.5}, num_spin_orbitals=4, ), 'ParticleNumber': FermionicOp({'+_0 -_0': 1.0, '+_1 -_1': 1.0, '+_2 -_2': 1.0, '+_3 -_3': 1.0}, num_spin_orbitals=4, ), 'XDipole': FermionicOp({}, num_spin_orbitals=4, ), 'YDipole': FermionicOp({}, num_spin_orbitals=4, ), 'ZDipole': FermionicOp({'+_0 -_0': np.float64(0.6944743507776602), '+_0 -_1': np.float64(-0.9278334704592325), '+_1 -_0': np.float64(-0.9278334704592325), '+_1 -_1': np.float64(0.6944743507776608), '+_2 -_2': np.float64(0.6944743507776602), '+_2 -_3': np.float64(-0.9278334704592325), '+_3 -_2': np.float64(-0.9278334704592325), '+_3 -_3': np.float64(0.6944743507776608)}, num_spin_orbitals=4, )})\n"
     ]
    }
   ],
   "source": [
    "print(second_q_ops)"
   ]
  },
  {
   "cell_type": "code",
   "execution_count": 14,
   "metadata": {},
   "outputs": [
    {
     "name": "stdout",
     "output_type": "stream",
     "text": [
      "H2 계산 완료: Energy = -1.838282\n",
      "LiH 계산 완료: Energy = -7.223646\n",
      "BeH2 계산 완료: Energy = -16.945607\n",
      "✅ 결과가 vqe_molecule_energies.csv 파일로 저장되었습니다.\n"
     ]
    }
   ],
   "source": [
    "# H,Li, BeH2 계산\n",
    "import pandas as pd\n",
    "from qiskit_nature.second_q.drivers import PySCFDriver\n",
    "from qiskit_nature.second_q.problems import ElectronicStructureProblem\n",
    "from qiskit_nature.second_q.mappers import JordanWignerMapper\n",
    "from qiskit_algorithms import VQE\n",
    "from qiskit_algorithms.optimizers import COBYLA\n",
    "from qiskit.circuit.library import TwoLocal\n",
    "from qiskit_aer.primitives import Estimator as AerEstimator\n",
    "\n",
    "# 분자 리스트\n",
    "molecules = [\n",
    "    {\"name\": \"H2\", \"atom\": \"H 0 0 0; H 0 0 0.735\"},\n",
    "    {\"name\": \"LiH\", \"atom\": \"Li 0 0 0; H 0 0 1.6\"},\n",
    "    {\"name\": \"BeH2\", \"atom\": \"Be 0 0 0; H 0 0 1.2; H 0 0 -1.2\"},\n",
    "]\n",
    "\n",
    "results = []\n",
    "\n",
    "for mol in molecules:\n",
    "    try:\n",
    "        driver = PySCFDriver(atom=mol[\"atom\"], basis=\"sto3g\")\n",
    "        problem = driver.run()\n",
    "        # hamiltonian = problem.hamiltonian.second_q_op()\n",
    "        second_q_ops = problem.second_q_ops()\n",
    "        main_op = second_q_ops[0]\n",
    "\n",
    "        mapper = JordanWignerMapper()\n",
    "        qubit_op = mapper.map(main_op)\n",
    "\n",
    "        ansatz = TwoLocal(qubit_op.num_qubits, ['ry', 'rz'], 'cx', reps=1)\n",
    "        optimizer = COBYLA(maxiter=100)\n",
    "        estimator = AerEstimator()\n",
    "\n",
    "        vqe_solver = VQE(ansatz=ansatz, optimizer=optimizer, estimator=estimator)\n",
    "        result = vqe_solver.compute_minimum_eigenvalue(qubit_op)\n",
    "\n",
    "        gate_count = ansatz.size()\n",
    "        circuit_depth = ansatz.depth()\n",
    "\n",
    "        results.append({\n",
    "            \"molecule\": mol[\"name\"],\n",
    "            \"num_qubits\": qubit_op.num_qubits,\n",
    "            \"energy\": result.eigenvalue.real,\n",
    "            \"gate_count\" : gate_count,\n",
    "            \"circuit_depth\" : circuit_depth\n",
    "        })  \n",
    "\n",
    "        print(f\"{mol['name']} 계산 완료: Energy = {result.eigenvalue.real:.6f}\")\n",
    "\n",
    "    except Exception as e:\n",
    "        print(f\"{mol['name']} 계산 중 오류 발생: {e}\")\n",
    "        results.append({\n",
    "            \"molecule\": mol[\"name\"],\n",
    "            \"num_qubits\": \"Error\",\n",
    "            \"energy\": str(e)\n",
    "        })\n",
    "\n",
    "# CSV 저장\n",
    "df = pd.DataFrame(results)\n",
    "df.to_csv(\"data/vqe_molecule_energies.csv\", index=False)\n",
    "print(\"결과가 vqe_molecule_energies.csv 파일로 저장되었습니다.\")\n"
   ]
  },
  {
   "cell_type": "code",
   "execution_count": null,
   "metadata": {},
   "outputs": [],
   "source": [
    "df = pd.read_csv(\"vqe_molecule_energies.csv\")\n",
    "\n",
    "# 문자열(molecule) → 숫자(one-hot)\n",
    "df = pd.get_dummies(df, columns=[\"molecule\"])\n",
    "\n",
    "# 입력값 (X), 출력값 (y) 분리\n",
    "X = df.drop(columns=[\"energy\"])\n",
    "y = df[\"energy\"]\n"
   ]
  },
  {
   "cell_type": "markdown",
   "metadata": {},
   "source": [
    "## ✍️ 배운 점\n",
    "- \n",
    "\n",
    "## 📌 다음 목표\n",
    "- \n",
    "\n",
    "\n",
    "## 💭궁금한 점 및 추가 정보\n",
    "\n",
    "#### 1. hamiltonian vs second_q_op()\n",
    "| 항목 | 설명 | 사용 상황 |\n",
    "| ----------------------------------- | ------------------------------------------- | --------------------------- |\n",
    "| `problem.hamiltonian.second_q_op()` | \\*\\*전자 해밀토니안(Ĥ\\_elec)\\*\\*만을 다뤄 **정확한 해밀토니안** 생성 | - ElectronicEnergy 클래스 인스턴스 <br>- 해밀토니안만 필요할 때 (핵반발 제외)$E_{total} = E_{electric}+ E_{etc}$ 에서 $ E_{electric}$ <br> - 내부에 one-body, two-body 텐서(=정밀한 행렬 값들)가 들어 있음  <br>- problem.hamiltonian.second_q_op()은 이 데이터를 바탕으로 “수식적으로 정확한 해밀토니안 연산자” 를 생성 |\n",
    "| `problem.second_q_ops()[0]` | **전자 해밀토니안 + 기타 속성 포함 가능**한 **통합 문제 정의**    | - ElectronicStructureProblem 클래스의 메서드 <br>- 알고리즘 실행에 자동으로 넘길 때  |\n",
    "\n",
    "\n",
    "> second_q_op()의 출력에는 **핵반발 에너지(nuclear repulsion energy)**는 포함되지 않음.\n",
    "\n",
    "전자 해밀토니안의 외부 상수항이기 때문에\n",
    "계산 후 별도로 problem.hamiltonian.nuclear_repulsion_energy 에서 더해줘야함.\n",
    "\n",
    "\n",
    "#### 2. second_q_ops 의 구조\n",
    "\n",
    "second_q_ops = problem.second_q_ops()\n",
    "| Index | 의미 |\n",
    "| -- | -- |\n",
    "| `[0]` | 해밀토니안 $\\hat{H}_{elec}$ (전자 에너지)  |\n",
    "| `[1]` | 전자 수 측정 연산자 (Particle Number)    |\n",
    "| `[2]` | 각운동량 측정 연산자 (Angular Momentum)   |\n",
    "| `[3]` | 자기화(Magnetization) 연산자           |\n",
    "| `[4]` | 전기 쌍극자 모멘트 연산자 (Dipole Moment) 등 |\n",
    "\n",
    "#### 3. 코드 각 요소의 의미 (화학/양자/하드웨어 관점)\n",
    "| 변수 | 기능 설명 | 분자 해석 | 양자 하드웨어 관점 | \n",
    "| -- | -- | -- | -- | \n",
    "| `driver`       | PySCF 등을 통해 **분자의 구조 입력** 및 전자 적분 계산           | 분자의 좌표, 원자종, basis set    | 고전적 전처리 단계 (quantum 아님) | \n",
    "| `problem`      | 전자 구조 계산 문제 생성 | 전자 수, 오비탈 수, 상태 설정        | Qiskit Nature의 핵심 문제 정의 |        | |\n",
    "| `second_q_ops` | 연산자들 생성 (`H`, `N`, `L`, `μ` 등) | 해밀토니안 등 연산자 구성            | 양자회로로 매핑할 수 있는 재료들      |  \n",
    "| `main_op`      | 해밀토니안 연산자 추출 (`[0]`)                           | 전자 에너지 계산 대상              | 양자회로로 바꿔야 할 대상          |\n",
    "| `mapper`       | Jordan-Wigner 등으로 **Fermionic → Qubit 연산자 변환** | second quantization 상태 유지 | 회로로 변환 가능한 형태로 매핑       |\n",
    "| `qubit_op`     | 실제 큐비트 연산자 (Pauli Sum)                         | 에너지 계산할 연산자               | 실제 회로로 구현될 연산자          |\n",
    "| `ansatz`       | 양자회로 구조 설계 (`TwoLocal`, `UCCSD`, 등)            | 상태 시도/모델링 방식              | 실제 회로 설계 (게이트 순서 포함)    |\n",
    "| `optimizer`    | 클래식 최적화기 (COBYLA, SPSA 등)                      | 최적 상태 추적                  | 회로 파라미터 업데이트            |\n",
    "| `estimator`    | 백엔드에서 expectation value 측정 $(⟨ψ\\| H \\| ψ⟩)$| 에너지 계산 | 실제 큐비트 측정값 수집 |\n",
    "| `vqe_solver`   | 전체 실행기 (VQE 알고리즘 실행 객체)                        | 최저에너지 상태 찾기               | 회로 실행 + 결과 반환 제어기       |\n",
    "| `result`       | VQE 최적 결과값 (eigenvalue)                        | 바닥 상태 에너지                 | 양자 하드웨어 최종 출력값          |\n"
   ]
  }
 ],
 "metadata": {
  "kernelspec": {
   "display_name": "qml1w",
   "language": "python",
   "name": "python3"
  },
  "language_info": {
   "codemirror_mode": {
    "name": "ipython",
    "version": 3
   },
   "file_extension": ".py",
   "mimetype": "text/x-python",
   "name": "python",
   "nbconvert_exporter": "python",
   "pygments_lexer": "ipython3",
   "version": "3.9.21"
  }
 },
 "nbformat": 4,
 "nbformat_minor": 2
}
