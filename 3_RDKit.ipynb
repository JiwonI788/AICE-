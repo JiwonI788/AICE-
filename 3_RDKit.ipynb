{
 "cells": [
  {
   "cell_type": "markdown",
   "metadata": {},
   "source": [
    "## 🎯#1. 실습 : RDKit을 이용함\n",
    "\n",
    "\n",
    "RDKit,SMILES 라이브러리와 DeepChem 데이터를 사용하여 분자 구조를 벡터화하고 QSAR 예측 모델을 만들어 생명과학에 쓰이는 머신러닝을 실습해보았습니다.\n",
    "- 분자 구조(SMILES)를 벡터화하는 법\n",
    "- 머신러닝으로 약물 활성 여부 예측\n",
    "- 딥러닝 모델과 결과 비교\n",
    "\n",
    "\n",
    "### 🙏 참고한 자료\n",
    "- [The RDKit Documentation](https://www.rdkit.org/docs/)\n",
    "- [deepchem -- MoleculeNet](https://deepchem.readthedocs.io/en/latest/api_reference/moleculenet.html)"
   ]
  },
  {
   "cell_type": "code",
   "execution_count": 72,
   "metadata": {},
   "outputs": [
    {
     "name": "stdout",
     "output_type": "stream",
     "text": [
      "정확도: 95.61%\n",
      "              precision    recall  f1-score   support\n",
      "\n",
      "           0       0.97      0.91      0.94        43\n",
      "           1       0.95      0.99      0.97        71\n",
      "\n",
      "    accuracy                           0.96       114\n",
      "   macro avg       0.96      0.95      0.95       114\n",
      "weighted avg       0.96      0.96      0.96       114\n",
      "\n"
     ]
    },
    {
     "data": {
      "image/png": "[encoded data removed]",
      "text/plain": [
       "<Figure size 640x480 with 2 Axes>"
      ]
     },
     "metadata": {},
     "output_type": "display_data"
    },
    {
     "data": {
      "text/plain": [
       "<Figure size 640x480 with 0 Axes>"
      ]
     },
     "metadata": {},
     "output_type": "display_data"
    }
   ],
   "source": [
    "# 예제 데이터\n",
    "from sklearn.datasets import load_breast_cancer\n",
    "import pandas as pd\n",
    "\n",
    "data = load_breast_cancer()\n",
    "X = pd.DataFrame(data.data, columns=data.feature_names)\n",
    "y = data.target\n",
    "\n",
    "# 예제 데이터 학습 및 평가\n",
    "from sklearn.model_selection import train_test_split\n",
    "from sklearn.linear_model import LogisticRegression\n",
    "from sklearn.metrics import classification_report\n",
    "from sklearn.metrics import accuracy_score\n",
    "\n",
    "\n",
    "X_train, X_test, y_train, y_test = train_test_split(X, y, test_size=0.2, random_state=42)\n",
    "\n",
    "model = LogisticRegression(max_iter=5000)\n",
    "model.fit(X_train, y_train)\n",
    "y_pred = model.predict(X_test)\n",
    "accuracy = accuracy_score(y_test, y_pred)\n",
    "print(\"정확도: {:.2f}%\".format(accuracy*100))\n",
    "print(classification_report(y_test, y_pred))\n",
    "\n",
    "# import matplotlib.pyplot as plt\n",
    "# disp = ConfusionMatrixDisplay(confusion_matrix=cm)\n",
    "# disp.plot()\n",
    "# plt.show()\n",
    "from sklearn.metrics import confusion_matrix, ConfusionMatrixDisplay\n",
    "import matplotlib.pyplot as plt\n",
    "cm = confusion_matrix(y_test, y_pred)\n",
    "disp = ConfusionMatrixDisplay(cm)\n",
    "disp.plot()\n",
    "plt.show()\n",
    "plt.savefig(\"image/breast_cancer__lr.png\")"
   ]
  },
  {
   "cell_type": "markdown",
   "metadata": {},
   "source": [
    "| 실제\\예측 | 예측=악성(0) | 예측=양성(1) |\n",
    "| -- | -- | -- |\n",
    "| **실제=악성(0)** | TP (진짜 환자를 환자로 예측) | FN (환자인데 정상이라고 예측)  |\n",
    "| **실제=양성(1)** | FP (정상인데 환자라고 예측)  | TN (진짜 정상을 정상으로 예측) |\n",
    "\n",
    "*TP : True Positive\n",
    "*FN : False Negative"
   ]
  },
  {
   "cell_type": "code",
   "execution_count": 19,
   "metadata": {},
   "outputs": [
    {
     "name": "stdout",
     "output_type": "stream",
     "text": [
      "Collecting deepchem\n",
      "  Downloading deepchem-2.8.0-py3-none-any.whl.metadata (2.0 kB)\n",
      "Requirement already satisfied: joblib in /Users/jiwonju/anaconda3/envs/qml1w/lib/python3.9/site-packages (from deepchem) (1.4.2)\n",
      "Requirement already satisfied: numpy>=1.21 in /Users/jiwonju/anaconda3/envs/qml1w/lib/python3.9/site-packages (from deepchem) (2.0.2)\n",
      "Requirement already satisfied: pandas in /Users/jiwonju/anaconda3/envs/qml1w/lib/python3.9/site-packages (from deepchem) (2.2.3)\n",
      "Requirement already satisfied: scikit-learn in /Users/jiwonju/anaconda3/envs/qml1w/lib/python3.9/site-packages (from deepchem) (1.6.1)\n",
      "Requirement already satisfied: sympy in /Users/jiwonju/anaconda3/envs/qml1w/lib/python3.9/site-packages (from deepchem) (1.13.3)\n",
      "Requirement already satisfied: scipy>=1.10.1 in /Users/jiwonju/anaconda3/envs/qml1w/lib/python3.9/site-packages (from deepchem) (1.13.1)\n",
      "Requirement already satisfied: rdkit in /Users/jiwonju/anaconda3/envs/qml1w/lib/python3.9/site-packages (from deepchem) (2024.9.6)\n",
      "Requirement already satisfied: python-dateutil>=2.8.2 in /Users/jiwonju/anaconda3/envs/qml1w/lib/python3.9/site-packages (from pandas->deepchem) (2.9.0.post0)\n",
      "Requirement already satisfied: pytz>=2020.1 in /Users/jiwonju/anaconda3/envs/qml1w/lib/python3.9/site-packages (from pandas->deepchem) (2025.2)\n",
      "Requirement already satisfied: tzdata>=2022.7 in /Users/jiwonju/anaconda3/envs/qml1w/lib/python3.9/site-packages (from pandas->deepchem) (2025.2)\n",
      "Requirement already satisfied: Pillow in /Users/jiwonju/anaconda3/envs/qml1w/lib/python3.9/site-packages (from rdkit->deepchem) (11.2.1)\n",
      "Requirement already satisfied: threadpoolctl>=3.1.0 in /Users/jiwonju/anaconda3/envs/qml1w/lib/python3.9/site-packages (from scikit-learn->deepchem) (3.6.0)\n",
      "Requirement already satisfied: mpmath<1.4,>=1.1.0 in /Users/jiwonju/anaconda3/envs/qml1w/lib/python3.9/site-packages (from sympy->deepchem) (1.3.0)\n",
      "Requirement already satisfied: six>=1.5 in /Users/jiwonju/anaconda3/envs/qml1w/lib/python3.9/site-packages (from python-dateutil>=2.8.2->pandas->deepchem) (1.17.0)\n",
      "Downloading deepchem-2.8.0-py3-none-any.whl (1.0 MB)\n",
      "\u001b[2K   \u001b[90m━━━━━━━━━━━━━━━━━━━━━━━━━━━━━━━━━━━━━━━━\u001b[0m \u001b[32m1.0/1.0 MB\u001b[0m \u001b[31m8.3 MB/s\u001b[0m eta \u001b[36m0:00:00\u001b[0ma \u001b[36m0:00:01\u001b[0m\n",
      "\u001b[?25hInstalling collected packages: deepchem\n",
      "Successfully installed deepchem-2.8.0\n"
     ]
    }
   ],
   "source": [
    "# !pip install deepchem"
   ]
  },
  {
   "cell_type": "code",
   "execution_count": 74,
   "metadata": {},
   "outputs": [
    {
     "name": "stderr",
     "output_type": "stream",
     "text": [
      "[01:31:33] WARNING: not removing hydrogen atom without neighbors\n",
      "[01:31:33] WARNING: not removing hydrogen atom without neighbors\n"
     ]
    }
   ],
   "source": [
    "import numpy as np\n",
    "import pandas as pd\n",
    "from deepchem.molnet import load_hiv #deepchem 내의 표준분자 데이터셋 모음집 molnet. 유명한 약물 및 단백질 데이터셋 이용가능\n",
    "from rdkit import Chem\n",
    "from rdkit.Chem import DataStructs\n",
    "from sklearn.ensemble import RandomForestClassifier #의사결정나무를 여러개 조합한 모델. 분류문제에서 튜닝 없이도 잘동작. 변수 중요도 해석가능. 큰 데이터셋도 빠르게 학습가능\n",
    "from sklearn.model_selection import train_test_split\n",
    "from sklearn.metrics import classification_report\n",
    "from rdkit.Chem import rdFingerprintGenerator\n",
    "\n",
    "\n",
    "# 1. 데이터 전처리\n",
    "# HIV 억제 약물 예픅 데이터셋 로드\n",
    "task, datasets, transformers = load_hiv(featurizer='Raw', splitter='random')\n",
    "    #load_tox21()등 다양한 데이터셋 이용가능. y=1 약물활성 있음. y=0 없음\n",
    "    # featurizer='Raw'로 문자열 그대로 받아서 벡터화는 직접함. 'ECFP'는 자동 벡터화함\n",
    "    # #split='random'데이터를 랜덤으로 훈련/검증/테스트용으로 나눠줌\n",
    "train_dataset, valid_dataset, test_dataset = datasets\n",
    "    # 훈련/검증/테스트용으로 나눠진 dataset 튜플을 각각 변수에 지정함\n",
    "\n",
    "X_smiles = np.concatenate([train_dataset.ids, valid_dataset.ids, test_dataset.ids]).flatten()\n",
    "y = np.concatenate([train_dataset.y, valid_dataset.y, test_dataset.y])\n",
    "\n",
    "# NaN 라벨 제거\n",
    "mask = ~np.isnan(y).flatten()#NaN이 아닌(~) 값만 True 로 반환. 2차원으로 반환하기 때문에 flatten() 을 해줌. \n",
    "X_smiles = X_smiles[mask]#문자열로 표현된 분자구조 리스트\n",
    "y = y[mask].astype(int)\n",
    "\n",
    "# 2. smiles 분자구조를 문자열에서 벡터로 변환 \n",
    "# SMILES → Morgan fingerprint\n",
    "def featurize_smiles(smiles_list):\n",
    "    features = []#벡터화한 값을 넣을 결과 리스트\n",
    "    gen = rdFingerprintGenerator.GetMorganGenerator(radius=2, fpSize=2048)\n",
    "        #radius=2 : fingerprint를 만들 때 원자 주변 몇 bond까지 볼지 설정. 일반적으로 2~3이 자주 사용됨\n",
    "        #fpSize=2048 : 생성할 bit 벡터의 길이. 2048은 딱 256바이트를 쓸 수 있어 잘 쓰임. 2048이면 대부분의 500Da(Dalton)이하의 약물 분자 크기에 충분함\n",
    "        #즉, gen은 원자 주변 2bond 까지 보는 2048 비트의 fingerprint 생성기\n",
    "    for smi in smiles_list:\n",
    "        #smile 문자열을 분자로 변환\n",
    "        mol = Chem.MolFromSmiles(smi)\n",
    "        # fallback\n",
    "        if mol is None:#smiles정보가 잘못된경우, MolFromSmiles은 None 을 반환\n",
    "            features.append(np.zeros(2048))  #2048개의 0으로 리스트를 채워 벡터 반환\n",
    "            continue\n",
    "        fp = gen.GetFingerprint(mol)#fp는 rdkit 의 고유 포맷이라, 머신러닝에 쓸 수 없음\n",
    "        arr = np.zeros((2048,))#2048개의 0이 있는 벡터\n",
    "        DataStructs.ConvertToNumpyArray(fp, arr)#bit vector 를 numpy의 array 로 복사시켜, 머신러닝에 쓸 수 있는 형태로 변환\n",
    "        features.append(arr)#완성된 어레이를 결과 리스트에 추가\n",
    "    return np.array(features)\n",
    "\n",
    "X_features = featurize_smiles(X_smiles)\n"
   ]
  },
  {
   "cell_type": "code",
   "execution_count": 53,
   "metadata": {},
   "outputs": [
    {
     "name": "stderr",
     "output_type": "stream",
     "text": [
      "/Users/jiwonju/anaconda3/envs/qml1w/lib/python3.9/site-packages/sklearn/base.py:1389: DataConversionWarning: A column-vector y was passed when a 1d array was expected. Please change the shape of y to (n_samples,), for example using ravel().\n",
      "  return fit_method(estimator, *args, **kwargs)\n"
     ]
    },
    {
     "name": "stdout",
     "output_type": "stream",
     "text": [
      "정확도: 97.35%\n",
      "              precision    recall  f1-score   support\n",
      "\n",
      "           0       0.98      1.00      0.99      7952\n",
      "           1       0.71      0.33      0.46       272\n",
      "\n",
      "    accuracy                           0.97      8224\n",
      "   macro avg       0.84      0.66      0.72      8224\n",
      "weighted avg       0.97      0.97      0.97      8224\n",
      "\n"
     ]
    }
   ],
   "source": [
    "\n",
    "# 3. 머신러닝 학습\n",
    "X_train, X_test, y_train, y_test = train_test_split(X_features, y, test_size=0.2, random_state=42)\n",
    "model = RandomForestClassifier(n_estimators=100, random_state=42)\n",
    "model.fit(X_train, y_train)\n"
   ]
  },
  {
   "cell_type": "code",
   "execution_count": 55,
   "metadata": {},
   "outputs": [
    {
     "name": "stdout",
     "output_type": "stream",
     "text": [
      "정확도: 97.35%\n",
      "              precision    recall  f1-score   support\n",
      "\n",
      "           0       0.98      1.00      0.99      7952\n",
      "           1       0.71      0.33      0.46       272\n",
      "\n",
      "    accuracy                           0.97      8224\n",
      "   macro avg       0.84      0.66      0.72      8224\n",
      "weighted avg       0.97      0.97      0.97      8224\n",
      "\n"
     ]
    }
   ],
   "source": [
    "# 4. 성능 평가\n",
    "y_pred = model.predict(X_test)\n",
    "accuracy = accuracy_score(y_test, y_pred)\n",
    "print(\"정확도: {:.2f}%\".format(accuracy*100))\n",
    "print(classification_report(y_test, y_pred))"
   ]
  },
  {
   "cell_type": "code",
   "execution_count": 54,
   "metadata": {},
   "outputs": [
    {
     "data": {
      "image/png": "[encoded data removed]",
      "text/plain": [
       "<Figure size 640x480 with 2 Axes>"
      ]
     },
     "metadata": {},
     "output_type": "display_data"
    }
   ],
   "source": [
    "# confusion matrix 평가\n",
    "from sklearn.metrics import confusion_matrix, ConfusionMatrixDisplay\n",
    "import matplotlib.pyplot as plt\n",
    "cm = confusion_matrix(y_test, y_pred)\n",
    "disp = ConfusionMatrixDisplay(confusion_matrix=cm)\n",
    "disp.plot()\n",
    "plt.show()"
   ]
  },
  {
   "cell_type": "code",
   "execution_count": 65,
   "metadata": {},
   "outputs": [
    {
     "name": "stdout",
     "output_type": "stream",
     "text": [
      "[0 0 0]\n",
      "[('CC(=O)OC1=CC=CC=C1C(=O)O', np.int64(0)), ('CCO', np.int64(0)), ('c1ccccc1N', np.int64(0))]\n"
     ]
    }
   ],
   "source": [
    "# 새로운 분자에 예측 해보기\n",
    "new_smiles = [\"CC(=O)OC1=CC=CC=C1C(=O)O\", \"CCO\", \"c1ccccc1N\"]\n",
    "X_new = featurize_smiles(new_smiles)\n",
    "y_new_pred = model.predict(X_new)\n",
    "print(y_new_pred)\n",
    "print(list(zip(new_smiles, y_new_pred)))"
   ]
  },
  {
   "cell_type": "code",
   "execution_count": 66,
   "metadata": {},
   "outputs": [
    {
     "name": "stdout",
     "output_type": "stream",
     "text": [
      "Collecting tensorflow\n",
      "  Downloading tensorflow-2.19.0-cp39-cp39-macosx_12_0_arm64.whl.metadata (4.0 kB)\n",
      "Collecting absl-py>=1.0.0 (from tensorflow)\n",
      "  Using cached absl_py-2.2.2-py3-none-any.whl.metadata (2.6 kB)\n",
      "Collecting astunparse>=1.6.0 (from tensorflow)\n",
      "  Downloading astunparse-1.6.3-py2.py3-none-any.whl.metadata (4.4 kB)\n",
      "Collecting flatbuffers>=24.3.25 (from tensorflow)\n",
      "  Downloading flatbuffers-25.2.10-py2.py3-none-any.whl.metadata (875 bytes)\n",
      "Collecting gast!=0.5.0,!=0.5.1,!=0.5.2,>=0.2.1 (from tensorflow)\n",
      "  Downloading gast-0.6.0-py3-none-any.whl.metadata (1.3 kB)\n",
      "Collecting google-pasta>=0.1.1 (from tensorflow)\n",
      "  Downloading google_pasta-0.2.0-py3-none-any.whl.metadata (814 bytes)\n",
      "Collecting libclang>=13.0.0 (from tensorflow)\n",
      "  Downloading libclang-18.1.1-1-py2.py3-none-macosx_11_0_arm64.whl.metadata (5.2 kB)\n",
      "Collecting opt-einsum>=2.3.2 (from tensorflow)\n",
      "  Using cached opt_einsum-3.4.0-py3-none-any.whl.metadata (6.3 kB)\n",
      "Requirement already satisfied: packaging in /Users/jiwonju/anaconda3/envs/qml1w/lib/python3.9/site-packages (from tensorflow) (25.0)\n",
      "Collecting protobuf!=4.21.0,!=4.21.1,!=4.21.2,!=4.21.3,!=4.21.4,!=4.21.5,<6.0.0dev,>=3.20.3 (from tensorflow)\n",
      "  Downloading protobuf-5.29.4-cp38-abi3-macosx_10_9_universal2.whl.metadata (592 bytes)\n",
      "Collecting requests<3,>=2.21.0 (from tensorflow)\n",
      "  Using cached requests-2.32.3-py3-none-any.whl.metadata (4.6 kB)\n",
      "Requirement already satisfied: setuptools in /Users/jiwonju/anaconda3/envs/qml1w/lib/python3.9/site-packages (from tensorflow) (79.0.1)\n",
      "Requirement already satisfied: six>=1.12.0 in /Users/jiwonju/anaconda3/envs/qml1w/lib/python3.9/site-packages (from tensorflow) (1.17.0)\n",
      "Collecting termcolor>=1.1.0 (from tensorflow)\n",
      "  Downloading termcolor-3.1.0-py3-none-any.whl.metadata (6.4 kB)\n",
      "Requirement already satisfied: typing-extensions>=3.6.6 in /Users/jiwonju/anaconda3/envs/qml1w/lib/python3.9/site-packages (from tensorflow) (4.13.2)\n",
      "Collecting wrapt>=1.11.0 (from tensorflow)\n",
      "  Downloading wrapt-1.17.2-cp39-cp39-macosx_11_0_arm64.whl.metadata (6.4 kB)\n",
      "Collecting grpcio<2.0,>=1.24.3 (from tensorflow)\n",
      "  Downloading grpcio-1.71.0-cp39-cp39-macosx_10_14_universal2.whl.metadata (3.8 kB)\n",
      "Collecting tensorboard~=2.19.0 (from tensorflow)\n",
      "  Downloading tensorboard-2.19.0-py3-none-any.whl.metadata (1.8 kB)\n",
      "Collecting keras>=3.5.0 (from tensorflow)\n",
      "  Downloading keras-3.9.2-py3-none-any.whl.metadata (6.1 kB)\n",
      "Requirement already satisfied: numpy<2.2.0,>=1.26.0 in /Users/jiwonju/anaconda3/envs/qml1w/lib/python3.9/site-packages (from tensorflow) (2.0.2)\n",
      "Collecting h5py>=3.11.0 (from tensorflow)\n",
      "  Downloading h5py-3.13.0-cp39-cp39-macosx_11_0_arm64.whl.metadata (2.5 kB)\n",
      "Collecting ml-dtypes<1.0.0,>=0.5.1 (from tensorflow)\n",
      "  Downloading ml_dtypes-0.5.1-cp39-cp39-macosx_10_9_universal2.whl.metadata (21 kB)\n",
      "Collecting tensorflow-io-gcs-filesystem>=0.23.1 (from tensorflow)\n",
      "  Downloading tensorflow_io_gcs_filesystem-0.37.1-cp39-cp39-macosx_12_0_arm64.whl.metadata (14 kB)\n",
      "Requirement already satisfied: wheel<1.0,>=0.23.0 in /Users/jiwonju/anaconda3/envs/qml1w/lib/python3.9/site-packages (from astunparse>=1.6.0->tensorflow) (0.45.1)\n",
      "Collecting rich (from keras>=3.5.0->tensorflow)\n",
      "  Downloading rich-14.0.0-py3-none-any.whl.metadata (18 kB)\n",
      "Collecting namex (from keras>=3.5.0->tensorflow)\n",
      "  Downloading namex-0.0.9-py3-none-any.whl.metadata (322 bytes)\n",
      "Collecting optree (from keras>=3.5.0->tensorflow)\n",
      "  Downloading optree-0.15.0-cp39-cp39-macosx_11_0_arm64.whl.metadata (48 kB)\n",
      "Collecting charset-normalizer<4,>=2 (from requests<3,>=2.21.0->tensorflow)\n",
      "  Downloading charset_normalizer-3.4.2-cp39-cp39-macosx_10_9_universal2.whl.metadata (35 kB)\n",
      "Collecting idna<4,>=2.5 (from requests<3,>=2.21.0->tensorflow)\n",
      "  Downloading idna-3.10-py3-none-any.whl.metadata (10 kB)\n",
      "Collecting urllib3<3,>=1.21.1 (from requests<3,>=2.21.0->tensorflow)\n",
      "  Downloading urllib3-2.4.0-py3-none-any.whl.metadata (6.5 kB)\n",
      "Collecting certifi>=2017.4.17 (from requests<3,>=2.21.0->tensorflow)\n",
      "  Downloading certifi-2025.4.26-py3-none-any.whl.metadata (2.5 kB)\n",
      "Collecting markdown>=2.6.8 (from tensorboard~=2.19.0->tensorflow)\n",
      "  Downloading markdown-3.8-py3-none-any.whl.metadata (5.1 kB)\n",
      "Collecting tensorboard-data-server<0.8.0,>=0.7.0 (from tensorboard~=2.19.0->tensorflow)\n",
      "  Downloading tensorboard_data_server-0.7.2-py3-none-any.whl.metadata (1.1 kB)\n",
      "Collecting werkzeug>=1.0.1 (from tensorboard~=2.19.0->tensorflow)\n",
      "  Downloading werkzeug-3.1.3-py3-none-any.whl.metadata (3.7 kB)\n",
      "Collecting importlib-metadata>=4.4 (from markdown>=2.6.8->tensorboard~=2.19.0->tensorflow)\n",
      "  Downloading importlib_metadata-8.7.0-py3-none-any.whl.metadata (4.8 kB)\n",
      "Collecting MarkupSafe>=2.1.1 (from werkzeug>=1.0.1->tensorboard~=2.19.0->tensorflow)\n",
      "  Downloading MarkupSafe-3.0.2-cp39-cp39-macosx_11_0_arm64.whl.metadata (4.0 kB)\n",
      "Collecting markdown-it-py>=2.2.0 (from rich->keras>=3.5.0->tensorflow)\n",
      "  Downloading markdown_it_py-3.0.0-py3-none-any.whl.metadata (6.9 kB)\n",
      "Requirement already satisfied: pygments<3.0.0,>=2.13.0 in /Users/jiwonju/anaconda3/envs/qml1w/lib/python3.9/site-packages (from rich->keras>=3.5.0->tensorflow) (2.19.1)\n",
      "Requirement already satisfied: zipp>=3.20 in /Users/jiwonju/anaconda3/envs/qml1w/lib/python3.9/site-packages (from importlib-metadata>=4.4->markdown>=2.6.8->tensorboard~=2.19.0->tensorflow) (3.21.0)\n",
      "Collecting mdurl~=0.1 (from markdown-it-py>=2.2.0->rich->keras>=3.5.0->tensorflow)\n",
      "  Downloading mdurl-0.1.2-py3-none-any.whl.metadata (1.6 kB)\n",
      "Downloading tensorflow-2.19.0-cp39-cp39-macosx_12_0_arm64.whl (252.5 MB)\n",
      "\u001b[2K   \u001b[90m━━━━━━━━━━━━━━━━━━━━━━━━━━━━━━━━━━━━━━━━\u001b[0m \u001b[32m252.5/252.5 MB\u001b[0m \u001b[31m4.0 MB/s\u001b[0m eta \u001b[36m0:00:00\u001b[0m00:01\u001b[0m00:02\u001b[0m\n",
      "\u001b[?25hUsing cached absl_py-2.2.2-py3-none-any.whl (135 kB)\n",
      "Downloading astunparse-1.6.3-py2.py3-none-any.whl (12 kB)\n",
      "Downloading flatbuffers-25.2.10-py2.py3-none-any.whl (30 kB)\n",
      "Downloading gast-0.6.0-py3-none-any.whl (21 kB)\n",
      "Downloading google_pasta-0.2.0-py3-none-any.whl (57 kB)\n",
      "Downloading grpcio-1.71.0-cp39-cp39-macosx_10_14_universal2.whl (11.3 MB)\n",
      "\u001b[2K   \u001b[90m━━━━━━━━━━━━━━━━━━━━━━━━━━━━━━━━━━━━━━━━\u001b[0m \u001b[32m11.3/11.3 MB\u001b[0m \u001b[31m6.6 MB/s\u001b[0m eta \u001b[36m0:00:00\u001b[0ma \u001b[36m0:00:01\u001b[0m\n",
      "\u001b[?25hDownloading h5py-3.13.0-cp39-cp39-macosx_11_0_arm64.whl (2.9 MB)\n",
      "\u001b[2K   \u001b[90m━━━━━━━━━━━━━━━━━━━━━━━━━━━━━━━━━━━━━━━━\u001b[0m \u001b[32m2.9/2.9 MB\u001b[0m \u001b[31m4.4 MB/s\u001b[0m eta \u001b[36m0:00:00\u001b[0ma \u001b[36m0:00:01\u001b[0m\n",
      "\u001b[?25hDownloading keras-3.9.2-py3-none-any.whl (1.3 MB)\n",
      "\u001b[2K   \u001b[90m━━━━━━━━━━━━━━━━━━━━━━━━━━━━━━━━━━━━━━━━\u001b[0m \u001b[32m1.3/1.3 MB\u001b[0m \u001b[31m5.7 MB/s\u001b[0m eta \u001b[36m0:00:00\u001b[0ma \u001b[36m0:00:01\u001b[0m\n",
      "\u001b[?25hDownloading libclang-18.1.1-1-py2.py3-none-macosx_11_0_arm64.whl (25.8 MB)\n",
      "\u001b[2K   \u001b[90m━━━━━━━━━━━━━━━━━━━━━━━━━━━━━━━━━━━━━━━━\u001b[0m \u001b[32m25.8/25.8 MB\u001b[0m \u001b[31m5.9 MB/s\u001b[0m eta \u001b[36m0:00:00\u001b[0m00:01\u001b[0m00:01\u001b[0m\n",
      "\u001b[?25hDownloading ml_dtypes-0.5.1-cp39-cp39-macosx_10_9_universal2.whl (667 kB)\n",
      "\u001b[2K   \u001b[90m━━━━━━━━━━━━━━━━━━━━━━━━━━━━━━━━━━━━━━━━\u001b[0m \u001b[32m667.6/667.6 kB\u001b[0m \u001b[31m6.1 MB/s\u001b[0m eta \u001b[36m0:00:00\u001b[0m\n",
      "\u001b[?25hUsing cached opt_einsum-3.4.0-py3-none-any.whl (71 kB)\n",
      "Downloading protobuf-5.29.4-cp38-abi3-macosx_10_9_universal2.whl (417 kB)\n",
      "Using cached requests-2.32.3-py3-none-any.whl (64 kB)\n",
      "Downloading tensorboard-2.19.0-py3-none-any.whl (5.5 MB)\n",
      "\u001b[2K   \u001b[90m━━━━━━━━━━━━━━━━━━━━━━━━━━━━━━━━━━━━━━━━\u001b[0m \u001b[32m5.5/5.5 MB\u001b[0m \u001b[31m4.3 MB/s\u001b[0m eta \u001b[36m0:00:00\u001b[0ma \u001b[36m0:00:01\u001b[0m\n",
      "\u001b[?25hDownloading tensorflow_io_gcs_filesystem-0.37.1-cp39-cp39-macosx_12_0_arm64.whl (3.5 MB)\n",
      "\u001b[2K   \u001b[90m━━━━━━━━━━━━━━━━━━━━━━━━━━━━━━━━━━━━━━━━\u001b[0m \u001b[32m3.5/3.5 MB\u001b[0m \u001b[31m2.9 MB/s\u001b[0m eta \u001b[36m0:00:00\u001b[0ma \u001b[36m0:00:01\u001b[0m\n",
      "\u001b[?25hDownloading termcolor-3.1.0-py3-none-any.whl (7.7 kB)\n",
      "Downloading wrapt-1.17.2-cp39-cp39-macosx_11_0_arm64.whl (38 kB)\n",
      "Downloading certifi-2025.4.26-py3-none-any.whl (159 kB)\n",
      "Downloading charset_normalizer-3.4.2-cp39-cp39-macosx_10_9_universal2.whl (201 kB)\n",
      "Downloading idna-3.10-py3-none-any.whl (70 kB)\n",
      "Downloading markdown-3.8-py3-none-any.whl (106 kB)\n",
      "Downloading tensorboard_data_server-0.7.2-py3-none-any.whl (2.4 kB)\n",
      "Downloading urllib3-2.4.0-py3-none-any.whl (128 kB)\n",
      "Downloading werkzeug-3.1.3-py3-none-any.whl (224 kB)\n",
      "Downloading namex-0.0.9-py3-none-any.whl (5.8 kB)\n",
      "Downloading optree-0.15.0-cp39-cp39-macosx_11_0_arm64.whl (329 kB)\n",
      "Downloading rich-14.0.0-py3-none-any.whl (243 kB)\n",
      "Downloading importlib_metadata-8.7.0-py3-none-any.whl (27 kB)\n",
      "Downloading markdown_it_py-3.0.0-py3-none-any.whl (87 kB)\n",
      "Downloading MarkupSafe-3.0.2-cp39-cp39-macosx_11_0_arm64.whl (12 kB)\n",
      "Downloading mdurl-0.1.2-py3-none-any.whl (10.0 kB)\n",
      "Installing collected packages: namex, libclang, flatbuffers, wrapt, urllib3, termcolor, tensorflow-io-gcs-filesystem, tensorboard-data-server, protobuf, optree, opt-einsum, ml-dtypes, mdurl, MarkupSafe, importlib-metadata, idna, h5py, grpcio, google-pasta, gast, charset-normalizer, certifi, astunparse, absl-py, werkzeug, requests, markdown-it-py, markdown, tensorboard, rich, keras, tensorflow\n",
      "Successfully installed MarkupSafe-3.0.2 absl-py-2.2.2 astunparse-1.6.3 certifi-2025.4.26 charset-normalizer-3.4.2 flatbuffers-25.2.10 gast-0.6.0 google-pasta-0.2.0 grpcio-1.71.0 h5py-3.13.0 idna-3.10 importlib-metadata-8.7.0 keras-3.9.2 libclang-18.1.1 markdown-3.8 markdown-it-py-3.0.0 mdurl-0.1.2 ml-dtypes-0.5.1 namex-0.0.9 opt-einsum-3.4.0 optree-0.15.0 protobuf-5.29.4 requests-2.32.3 rich-14.0.0 tensorboard-2.19.0 tensorboard-data-server-0.7.2 tensorflow-2.19.0 tensorflow-io-gcs-filesystem-0.37.1 termcolor-3.1.0 urllib3-2.4.0 werkzeug-3.1.3 wrapt-1.17.2\n"
     ]
    }
   ],
   "source": [
    "# !pip install tensorflow"
   ]
  },
  {
   "cell_type": "code",
   "execution_count": null,
   "metadata": {},
   "outputs": [
    {
     "name": "stderr",
     "output_type": "stream",
     "text": [
      "/Users/jiwonju/anaconda3/envs/qml1w/lib/python3.9/site-packages/keras/src/layers/core/dense.py:87: UserWarning: Do not pass an `input_shape`/`input_dim` argument to a layer. When using Sequential models, prefer using an `Input(shape)` object as the first layer in the model instead.\n",
      "  super().__init__(activity_regularizer=activity_regularizer, **kwargs)\n"
     ]
    },
    {
     "name": "stdout",
     "output_type": "stream",
     "text": [
      "Epoch 1/10\n",
      "\u001b[1m412/412\u001b[0m \u001b[32m━━━━━━━━━━━━━━━━━━━━\u001b[0m\u001b[37m\u001b[0m \u001b[1m3s\u001b[0m 6ms/step - accuracy: 0.9646 - loss: 0.1751 - val_accuracy: 0.9681 - val_loss: 0.1280\n",
      "Epoch 2/10\n",
      "\u001b[1m412/412\u001b[0m \u001b[32m━━━━━━━━━━━━━━━━━━━━\u001b[0m\u001b[37m\u001b[0m \u001b[1m2s\u001b[0m 6ms/step - accuracy: 0.9718 - loss: 0.0995 - val_accuracy: 0.9660 - val_loss: 0.1284\n",
      "Epoch 3/10\n",
      "\u001b[1m412/412\u001b[0m \u001b[32m━━━━━━━━━━━━━━━━━━━━\u001b[0m\u001b[37m\u001b[0m \u001b[1m3s\u001b[0m 6ms/step - accuracy: 0.9772 - loss: 0.0634 - val_accuracy: 0.9649 - val_loss: 0.1351\n",
      "Epoch 4/10\n",
      "\u001b[1m412/412\u001b[0m \u001b[32m━━━━━━━━━━━━━━━━━━━━\u001b[0m\u001b[37m\u001b[0m \u001b[1m2s\u001b[0m 6ms/step - accuracy: 0.9851 - loss: 0.0413 - val_accuracy: 0.9646 - val_loss: 0.1838\n",
      "Epoch 5/10\n",
      "\u001b[1m412/412\u001b[0m \u001b[32m━━━━━━━━━━━━━━━━━━━━\u001b[0m\u001b[37m\u001b[0m \u001b[1m3s\u001b[0m 6ms/step - accuracy: 0.9910 - loss: 0.0232 - val_accuracy: 0.9660 - val_loss: 0.2026\n",
      "Epoch 6/10\n",
      "\u001b[1m412/412\u001b[0m \u001b[32m━━━━━━━━━━━━━━━━━━━━\u001b[0m\u001b[37m\u001b[0m \u001b[1m3s\u001b[0m 6ms/step - accuracy: 0.9935 - loss: 0.0188 - val_accuracy: 0.9614 - val_loss: 0.2343\n",
      "Epoch 7/10\n",
      "\u001b[1m412/412\u001b[0m \u001b[32m━━━━━━━━━━━━━━━━━━━━\u001b[0m\u001b[37m\u001b[0m \u001b[1m3s\u001b[0m 7ms/step - accuracy: 0.9943 - loss: 0.0163 - val_accuracy: 0.9670 - val_loss: 0.2763\n",
      "Epoch 8/10\n",
      "\u001b[1m412/412\u001b[0m \u001b[32m━━━━━━━━━━━━━━━━━━━━\u001b[0m\u001b[37m\u001b[0m \u001b[1m3s\u001b[0m 6ms/step - accuracy: 0.9955 - loss: 0.0124 - val_accuracy: 0.9660 - val_loss: 0.2653\n",
      "Epoch 9/10\n",
      "\u001b[1m412/412\u001b[0m \u001b[32m━━━━━━━━━━━━━━━━━━━━\u001b[0m\u001b[37m\u001b[0m \u001b[1m3s\u001b[0m 6ms/step - accuracy: 0.9958 - loss: 0.0116 - val_accuracy: 0.9650 - val_loss: 0.2584\n",
      "Epoch 10/10\n",
      "\u001b[1m412/412\u001b[0m \u001b[32m━━━━━━━━━━━━━━━━━━━━\u001b[0m\u001b[37m\u001b[0m \u001b[1m2s\u001b[0m 6ms/step - accuracy: 0.9966 - loss: 0.0094 - val_accuracy: 0.9652 - val_loss: 0.3017\n",
      "\u001b[1m257/257\u001b[0m \u001b[32m━━━━━━━━━━━━━━━━━━━━\u001b[0m\u001b[37m\u001b[0m \u001b[1m0s\u001b[0m 862us/step\n",
      "              precision    recall  f1-score   support\n",
      "\n",
      "           0       0.98      0.99      0.99      7952\n",
      "           1       0.63      0.44      0.52       272\n",
      "\n",
      "    accuracy                           0.97      8224\n",
      "   macro avg       0.81      0.71      0.75      8224\n",
      "weighted avg       0.97      0.97      0.97      8224\n",
      "\n",
      "정확도: 97.30%\n"
     ]
    }
   ],
   "source": [
    "#딥러닝 모델\n",
    "from tensorflow.keras.models import Sequential\n",
    "from tensorflow.keras.layers import Dense, Dropout\n",
    "from tensorflow.keras.optimizers import Adam\n",
    "\n",
    "# Train/Test 분할\n",
    "# X_train, X_test, y_train, y_test = train_test_split(X_features, y, test_size=0.2, random_state=42)\n",
    "\n",
    "# 모델 정의 (Keras MLP)\n",
    "model = Sequential([\n",
    "    Dense(512, activation='relu', input_shape=(2048,)),\n",
    "    Dropout(0.3),\n",
    "    Dense(256, activation='relu'),\n",
    "    Dropout(0.3),\n",
    "    Dense(1, activation='sigmoid')\n",
    "])\n",
    "model.compile(optimizer=Adam(learning_rate=0.001), loss='binary_crossentropy', metrics=['accuracy'])\n",
    "model.fit(X_train, y_train, validation_split=0.2, epochs=10, batch_size=64)\n",
    "\n"
   ]
  },
  {
   "cell_type": "code",
   "execution_count": 69,
   "metadata": {},
   "outputs": [
    {
     "name": "stdout",
     "output_type": "stream",
     "text": [
      "\u001b[1m257/257\u001b[0m \u001b[32m━━━━━━━━━━━━━━━━━━━━\u001b[0m\u001b[37m\u001b[0m \u001b[1m0s\u001b[0m 775us/step\n",
      "              precision    recall  f1-score   support\n",
      "\n",
      "           0       0.98      0.99      0.99      7952\n",
      "           1       0.63      0.44      0.52       272\n",
      "\n",
      "    accuracy                           0.97      8224\n",
      "   macro avg       0.81      0.71      0.75      8224\n",
      "weighted avg       0.97      0.97      0.97      8224\n",
      "\n",
      "정확도: 97.30%\n"
     ]
    }
   ],
   "source": [
    "\n",
    "# 예측 및 평가\n",
    "y_pred = (model.predict(X_test) > 0.5).astype(\"int32\")\n",
    "print(classification_report(y_test, y_pred))\n",
    "\n",
    "accuracy = accuracy_score(y_test, y_pred)\n",
    "print(\"정확도: {:.2f}%\".format(accuracy*100))"
   ]
  },
  {
   "cell_type": "code",
   "execution_count": 70,
   "metadata": {},
   "outputs": [
    {
     "ename": "NameError",
     "evalue": "name 'history' is not defined",
     "output_type": "error",
     "traceback": [
      "\u001b[0;31m---------------------------------------------------------------------------\u001b[0m",
      "\u001b[0;31mNameError\u001b[0m                                 Traceback (most recent call last)",
      "Cell \u001b[0;32mIn[70], line 3\u001b[0m\n\u001b[1;32m      1\u001b[0m \u001b[38;5;28;01mimport\u001b[39;00m\u001b[38;5;250m \u001b[39m\u001b[38;5;21;01mmatplotlib\u001b[39;00m\u001b[38;5;21;01m.\u001b[39;00m\u001b[38;5;21;01mpyplot\u001b[39;00m\u001b[38;5;250m \u001b[39m\u001b[38;5;28;01mas\u001b[39;00m\u001b[38;5;250m \u001b[39m\u001b[38;5;21;01mplt\u001b[39;00m\n\u001b[0;32m----> 3\u001b[0m plt\u001b[38;5;241m.\u001b[39mplot(\u001b[43mhistory\u001b[49m\u001b[38;5;241m.\u001b[39mhistory[\u001b[38;5;124m\"\u001b[39m\u001b[38;5;124mloss\u001b[39m\u001b[38;5;124m\"\u001b[39m], label\u001b[38;5;241m=\u001b[39m\u001b[38;5;124m\"\u001b[39m\u001b[38;5;124mTrain loss\u001b[39m\u001b[38;5;124m\"\u001b[39m)\n\u001b[1;32m      4\u001b[0m plt\u001b[38;5;241m.\u001b[39mplot(history\u001b[38;5;241m.\u001b[39mhistory[\u001b[38;5;124m\"\u001b[39m\u001b[38;5;124mval_loss\u001b[39m\u001b[38;5;124m\"\u001b[39m], label\u001b[38;5;241m=\u001b[39m\u001b[38;5;124m\"\u001b[39m\u001b[38;5;124mVal loss\u001b[39m\u001b[38;5;124m\"\u001b[39m)\n\u001b[1;32m      5\u001b[0m plt\u001b[38;5;241m.\u001b[39mlegend()\n",
      "\u001b[0;31mNameError\u001b[0m: name 'history' is not defined"
     ]
    }
   ],
   "source": [
    "import matplotlib.pyplot as plt\n",
    "\n",
    "plt.plot(history.history[\"loss\"], label=\"Train loss\")\n",
    "plt.plot(history.history[\"val_loss\"], label=\"Val loss\")\n",
    "plt.legend()\n",
    "plt.title(\"Loss curve\")\n",
    "plt.show()\n"
   ]
  },
  {
   "cell_type": "code",
   "execution_count": 73,
   "metadata": {},
   "outputs": [],
   "source": [
    "np.save(\"X_features.npy\", X_features)\n",
    "np.save(\"y_labels.npy\", y)"
   ]
  },
  {
   "cell_type": "markdown",
   "metadata": {},
   "source": [
    "## ✍️ 배운 점\n",
    "- \n",
    "\n",
    "## 📌 다음 목표\n",
    "- QML (양자 커널 분류기)로 확장\n",
    "- 또는 Qiskit 기반 양자 커널 SVM에 연결 \n",
    "\n",
    "## 💭궁금한 점 및 추가 정보\n",
    "#### 1. bit vector 란?\n",
    "0과 1만 있는 벡터\n",
    "\n",
    "#### 2. smile 의 fingerprint 란?\n",
    "분자 구조를 0과 1의 벡터로 표현한것.\n",
    "벤젠 고리, OH기 등 모두 0,1로 표현하고 있음.\n",
    "\n",
    "| 부분구조 | 해시값      | index (mod 2048) | 벡터                 |\n",
    "| ---- | -------- | ---------------- | ------------------ |\n",
    "| 벤젠고리 | 73542342 | 314              | 1 at position 314  |\n",
    "| OH기  | 98323123 | 1202             | 1 at position 1202 |\n",
    "| NH기  | 77192812 | 982              | 1 at position 982  |\n",
    "\n",
    "```text\n",
    "[0, 0, 0, ..., 0, 1, 0, ..., 0, 1, 0, ..., 1, 0]\n",
    "                   ↑         ↑         ↑\n",
    "                 314      982      1202\n",
    "\n",
    "```\n",
    "\n",
    "#### 3. ravel vs flatten 차이점?\n",
    " \n",
    "| | 반환 | 설명 |예시|\n",
    "|--| -- | -- | -- |\n",
    "| ravel | **뷰(view)**  | 원본 데이터를 가리키는 **\"얇은 껍데기\"** → 값을 바꾸면 원본도 바뀜 |b = a[1:4];b[0] = 999;→a 값 변환, b=mask.ravel();b[..]=False;→mask값 변환|\n",
    "| flatten | **복사(copy)** | 원본 데이터를 **통째로 복사한 새 배열** → 바꿔도 원본에는 영향 없음 |b = a[1:4].copy();→b값 변화시켜도 a 값은 그대로. b=mask.flatten();→mask값 그대로|\n",
    "\n",
    "\n",
    "#### 4. Da = Dalton\n",
    "1Da = 1u(원자질량 단위,약 수소 원자 하나의 질량) = 1g/mol\n",
    "* 경구약물로 적합한 조건 중 하나 : 분자량 < 500Da\n",
    "\n",
    "\n",
    "\n",
    "##### 5. X_features 와 fp의 형태 확인\n",
    "```python\n",
    "print(X_features)\n",
    "\n",
    "gen = rdFingerprintGenerator.GetMorganGenerator(radius=2, fpSize=2048)\n",
    "\n",
    "mol = Chem.MolFromSmiles(\"CCO\")\n",
    "fp = gen.GetFingerprint(mol)  # <- 여기에 분자 넣어서 벡터 생성\n",
    "print(fp)\n",
    "print(type(fp))\n",
    "----------\n",
    "<rdkit.DataStructs.cDataStructs.ExplicitBitVect object at 0x16c120820>\n",
    "<class 'rdkit.DataStructs.cDataStructs.ExplicitBitVect'>\n",
    "\n",
    "```\n",
    "\n",
    "## 🏁에러디버깅\n",
    "#### 1. 에러 : `IndexError: too many indices for array: array is 1-dimensional, but 2 were indexed`\n",
    "\n",
    "---> 21 X_smiles = X_smiles[mask]\n",
    "```python\n",
    "y = np.array([1.0, np.nan, 0.0, 1.0])\n",
    "print(mask)\n",
    "y= y[mask]\n",
    "print(y)\n",
    "```\n",
    "#문제점: mask 값이 [[True, ... ]]형태의 2차원으로 반환됨   \n",
    "#해결법: mask를 flatten, ravel로 1차원화 해주기\n",
    "\n",
    "#### 2. warning 대응 : `[15:18:18] DEPRECATION WARNING: please use MorganGenerator`\n",
    "#문제점 : GetMorganFingerprintAsBitVect이 새로운 버전에서 없어질 예정임    \n",
    "#해결법 : GetMorganFingerprintAsBitVect 대신 MorganGenerator 사용.\n",
    "\n",
    "\n",
    "기존 코드\n",
    "```python\n",
    "from rdkit.Chem import AllChem,\n",
    "        fp = AllChem.GetMorganFingerprintAsBitVect(mol, radius=2, nBits=2048)\n",
    "```\n",
    "↓\n",
    "변경 후\n",
    "```python\n",
    "from rdkit.Chem import rdFingerprintGenerator\n",
    "gen = rdFingerprintGenerator.GetMorganGenerator(radius=2, fpSize=2048)\n",
    "...\n",
    "        fp = gen.GetFingerprint(mol)#, 2, nBits=2048\n",
    "```\n",
    "\n",
    "- 참고 : [RDKit blog- FingerprintGenerator tutorial](https://greglandrum.github.io/rdkit-blog/posts/2023-01-18-fingerprint-generator-tutorial.html)"
   ]
  },
  {
   "cell_type": "code",
   "execution_count": null,
   "metadata": {},
   "outputs": [],
   "source": []
  }
 ],
 "metadata": {
  "kernelspec": {
   "display_name": "qml1w",
   "language": "python",
   "name": "python3"
  },
  "language_info": {
   "codemirror_mode": {
    "name": "ipython",
    "version": 3
   },
   "file_extension": ".py",
   "mimetype": "text/x-python",
   "name": "python",
   "nbconvert_exporter": "python",
   "pygments_lexer": "ipython3",
   "version": "3.9.21"
  }
 },
 "nbformat": 4,
 "nbformat_minor": 2
}
