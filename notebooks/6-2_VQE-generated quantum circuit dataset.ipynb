{
 "cells": [
  {
   "cell_type": "markdown",
   "metadata": {},
   "source": [
    "## 6-2. VQE로 수소 분자 에너지 계산\n",
    "\n",
    "데이터셋을 이용해서 분자별 에너지를 계산한 데이터를 추출하였습니다.\n",
    "\n",
    "\n",
    "\n",
    "### 🙏 참고한 자료\n",
    "- [qiskit-nature](https://qiskit-community.github.io/qiskit-nature/tutorials/01_electronic_structure.html)\n",
    "- [VQE-generated-dataset](https://github.com/Qulacs-Osaka/VQE-generated-dataset/tree/main)\n",
    "- [1] Nakayama, A., Mitarai, K., Placidi, L., Sugimoto, T., & Fujii, K. (2023).  \n",
    "*VQE-generated Quantum Circuit Dataset for Machine Learning.* arXiv preprint arXiv:2302.09751.\n",
    "\n"
   ]
  },
  {
   "cell_type": "code",
   "execution_count": 12,
   "metadata": {},
   "outputs": [],
   "source": [
    "# import sys\n",
    "# import os\n",
    "# sys.path.append(os.path.abspath(\"../scripts\"))\n",
    "\n",
    "import sys\n",
    "import os\n",
    "sys.path.append(os.path.abspath(\"../utils\"))\n",
    "from qc_reader import load_qc\n",
    "# 예: 4-큐빗 회로 로드\n",
    "qasm_list, labels = load_qc(path=\"../../VQE-generated-dataset/data/qasm\", n_qubit=4, label_kind=\"hamiltonian\")\n"
   ]
  },
  {
   "cell_type": "code",
   "execution_count": 13,
   "metadata": {},
   "outputs": [
    {
     "name": "stdout",
     "output_type": "stream",
     "text": [
      "OPENQASM 2.0;\n",
      "include \"qelib1.inc\";\n",
      "qreg q[4];\n",
      "cx q[0],q[1];\n",
      "rz(-0.08567393067678994) q[1];\n",
      "cx q[0],q[1];\n",
      "cx q[1],q[2];\n",
      "rz(-0.04047338544749882) q[2];\n",
      "cx q[1],q[2];\n",
      "cx q[2],q[3];\n",
      "rz(-0.000113985079783\n",
      "레이블: 0\n"
     ]
    }
   ],
   "source": [
    "print(qasm_list[0][:200])  # QASM 회로 일부\n",
    "print(\"레이블:\", labels[0])"
   ]
  },
  {
   "cell_type": "code",
   "execution_count": 14,
   "metadata": {},
   "outputs": [
    {
     "data": {
      "text/html": [
       "<pre style=\"word-wrap: normal;white-space: pre;background: #fff0;line-height: 1.1;font-family: &quot;Courier New&quot;,Courier,monospace\">                                ┌───┐  ┌────────────┐ ┌───┐┌─────────────┐»\n",
       "q_0: ──■─────────────────────■──┤ H ├──┤ Rz(2.5187) ├─┤ H ├┤ Rz(-1.4786) ├»\n",
       "     ┌─┴─┐┌───────────────┐┌─┴─┐└───┘  └────────────┘ └───┘└────┬───┬────┘»\n",
       "q_1: ┤ X ├┤ Rz(-0.085674) ├┤ X ├──■─────────────────────■───────┤ H ├─────»\n",
       "     └───┘└───────────────┘└───┘┌─┴─┐┌───────────────┐┌─┴─┐     └───┘     »\n",
       "q_2: ───────────────────────────┤ X ├┤ Rz(-0.040473) ├┤ X ├───────■───────»\n",
       "                                └───┘└───────────────┘└───┘     ┌─┴─┐     »\n",
       "q_3: ───────────────────────────────────────────────────────────┤ X ├─────»\n",
       "                                                                └───┘     »\n",
       "«                                                                           »\n",
       "«q_0: ──────────────────────────────────────────────■───────────────────────»\n",
       "«        ┌────────────┐  ┌───┐┌─────────────┐     ┌─┴─┐     ┌──────────────┐»\n",
       "«q_1: ───┤ Rz(1.6076) ├──┤ H ├┤ Rz(-2.3084) ├─────┤ X ├─────┤ Rz(-0.87454) ├»\n",
       "«        └────────────┘  └───┘└────┬───┬────┘ ┌───┴───┴────┐└────┬───┬─────┘»\n",
       "«q_2: ─────────────────────■───────┤ H ├──────┤ Rz(1.7458) ├─────┤ H ├──────»\n",
       "«     ┌─────────────────┐┌─┴─┐     ├───┤     ┌┴────────────┤     ├───┤      »\n",
       "«q_3: ┤ Rz(-0.00011399) ├┤ X ├─────┤ H ├─────┤ Rz(0.92786) ├─────┤ H ├──────»\n",
       "«     └─────────────────┘└───┘     └───┘     └─────────────┘     └───┘      »\n",
       "«                    ┌───┐ ┌────────────┐┌───┐┌──────────────┐               »\n",
       "«q_0: ───────■───────┤ H ├─┤ Rz(1.4279) ├┤ H ├┤ Rz(-0.21952) ├───────────────»\n",
       "«          ┌─┴─┐     └───┘ └────────────┘└───┘└────┬───┬─────┘ ┌───────────┐ »\n",
       "«q_1: ─────┤ X ├───────■───────────────────■───────┤ H ├───────┤ Rz(1.463) ├─»\n",
       "«     ┌────┴───┴────┐┌─┴─┐┌─────────────┐┌─┴─┐     └───┘       └───────────┘ »\n",
       "«q_2: ┤ Rz(-1.6791) ├┤ X ├┤ Rz(0.21458) ├┤ X ├───────■───────────────────────»\n",
       "«     ├─────────────┤└───┘└─────────────┘└───┘     ┌─┴─┐      ┌─────────────┐»\n",
       "«q_3: ┤ Rz(-1.8785) ├──────────────────────────────┤ X ├──────┤ Rz(0.18764) ├»\n",
       "«     └─────────────┘                              └───┘      └─────────────┘»\n",
       "«                                                                             »\n",
       "«q_0: ──────────────────────────────■───────────────────────────────■─────────»\n",
       "«     ┌───┐┌────────────────┐     ┌─┴─┐     ┌──────────────┐      ┌─┴─┐       »\n",
       "«q_1: ┤ H ├┤ Rz(1.0134e-05) ├─────┤ X ├─────┤ Rz(-0.22268) ├──────┤ X ├───────»\n",
       "«     └───┘└─────┬───┬──────┘┌────┴───┴────┐└────┬───┬─────┘┌─────┴───┴──────┐»\n",
       "«q_2: ──■────────┤ H ├───────┤ Rz(-1.5872) ├─────┤ H ├──────┤ Rz(0.00075697) ├»\n",
       "«     ┌─┴─┐      ├───┤       └┬────────────┤     ├───┤      └┬──────────────┬┘»\n",
       "«q_3: ┤ X ├──────┤ H ├────────┤ Rz(1.3102) ├─────┤ H ├───────┤ Rz(-0.60215) ├─»\n",
       "«     └───┘      └───┘        └────────────┘     └───┘       └──────────────┘ »\n",
       "«     ┌───┐┌─────────────┐ ┌───┐┌────────────┐                    »\n",
       "«q_0: ┤ H ├┤ Rz(0.17631) ├─┤ H ├┤ Rz(1.3593) ├────────────────────»\n",
       "«     └───┘└─────────────┘ └───┘└───┬───┬────┘ ┌────────────┐┌───┐»\n",
       "«q_1: ──■────────────────────■──────┤ H ├──────┤ Rz(1.6877) ├┤ H ├»\n",
       "«     ┌─┴─┐┌──────────────┐┌─┴─┐    └───┘      └────────────┘└───┘»\n",
       "«q_2: ┤ X ├┤ Rz(0.058065) ├┤ X ├──────■────────────────────────■──»\n",
       "«     └───┘└──────────────┘└───┘    ┌─┴─┐     ┌─────────────┐┌─┴─┐»\n",
       "«q_3: ──────────────────────────────┤ X ├─────┤ Rz(-0.4355) ├┤ X ├»\n",
       "«                                   └───┘     └─────────────┘└───┘»\n",
       "«                                                                \n",
       "«q_0: ───────────────────────────────────────────────────────────\n",
       "«     ┌────────────────┐                                         \n",
       "«q_1: ┤ Rz(3.5378e-05) ├─────────────────────────────────────────\n",
       "«     └─────┬───┬──────┘┌───────────────┐┌───┐┌─────────────────┐\n",
       "«q_2: ──────┤ H ├───────┤ Rz(-0.021246) ├┤ H ├┤ Rz(-0.00078971) ├\n",
       "«           ├───┤       └┬─────────────┬┘├───┤└─┬─────────────┬─┘\n",
       "«q_3: ──────┤ H ├────────┤ Rz(-1.5775) ├─┤ H ├──┤ Rz(0.43585) ├──\n",
       "«           └───┘        └─────────────┘ └───┘  └─────────────┘  </pre>"
      ],
      "text/plain": [
       "                                ┌───┐  ┌────────────┐ ┌───┐┌─────────────┐»\n",
       "q_0: ──■─────────────────────■──┤ H ├──┤ Rz(2.5187) ├─┤ H ├┤ Rz(-1.4786) ├»\n",
       "     ┌─┴─┐┌───────────────┐┌─┴─┐└───┘  └────────────┘ └───┘└────┬───┬────┘»\n",
       "q_1: ┤ X ├┤ Rz(-0.085674) ├┤ X ├──■─────────────────────■───────┤ H ├─────»\n",
       "     └───┘└───────────────┘└───┘┌─┴─┐┌───────────────┐┌─┴─┐     └───┘     »\n",
       "q_2: ───────────────────────────┤ X ├┤ Rz(-0.040473) ├┤ X ├───────■───────»\n",
       "                                └───┘└───────────────┘└───┘     ┌─┴─┐     »\n",
       "q_3: ───────────────────────────────────────────────────────────┤ X ├─────»\n",
       "                                                                └───┘     »\n",
       "«                                                                           »\n",
       "«q_0: ──────────────────────────────────────────────■───────────────────────»\n",
       "«        ┌────────────┐  ┌───┐┌─────────────┐     ┌─┴─┐     ┌──────────────┐»\n",
       "«q_1: ───┤ Rz(1.6076) ├──┤ H ├┤ Rz(-2.3084) ├─────┤ X ├─────┤ Rz(-0.87454) ├»\n",
       "«        └────────────┘  └───┘└────┬───┬────┘ ┌───┴───┴────┐└────┬───┬─────┘»\n",
       "«q_2: ─────────────────────■───────┤ H ├──────┤ Rz(1.7458) ├─────┤ H ├──────»\n",
       "«     ┌─────────────────┐┌─┴─┐     ├───┤     ┌┴────────────┤     ├───┤      »\n",
       "«q_3: ┤ Rz(-0.00011399) ├┤ X ├─────┤ H ├─────┤ Rz(0.92786) ├─────┤ H ├──────»\n",
       "«     └─────────────────┘└───┘     └───┘     └─────────────┘     └───┘      »\n",
       "«                    ┌───┐ ┌────────────┐┌───┐┌──────────────┐               »\n",
       "«q_0: ───────■───────┤ H ├─┤ Rz(1.4279) ├┤ H ├┤ Rz(-0.21952) ├───────────────»\n",
       "«          ┌─┴─┐     └───┘ └────────────┘└───┘└────┬───┬─────┘ ┌───────────┐ »\n",
       "«q_1: ─────┤ X ├───────■───────────────────■───────┤ H ├───────┤ Rz(1.463) ├─»\n",
       "«     ┌────┴───┴────┐┌─┴─┐┌─────────────┐┌─┴─┐     └───┘       └───────────┘ »\n",
       "«q_2: ┤ Rz(-1.6791) ├┤ X ├┤ Rz(0.21458) ├┤ X ├───────■───────────────────────»\n",
       "«     ├─────────────┤└───┘└─────────────┘└───┘     ┌─┴─┐      ┌─────────────┐»\n",
       "«q_3: ┤ Rz(-1.8785) ├──────────────────────────────┤ X ├──────┤ Rz(0.18764) ├»\n",
       "«     └─────────────┘                              └───┘      └─────────────┘»\n",
       "«                                                                             »\n",
       "«q_0: ──────────────────────────────■───────────────────────────────■─────────»\n",
       "«     ┌───┐┌────────────────┐     ┌─┴─┐     ┌──────────────┐      ┌─┴─┐       »\n",
       "«q_1: ┤ H ├┤ Rz(1.0134e-05) ├─────┤ X ├─────┤ Rz(-0.22268) ├──────┤ X ├───────»\n",
       "«     └───┘└─────┬───┬──────┘┌────┴───┴────┐└────┬───┬─────┘┌─────┴───┴──────┐»\n",
       "«q_2: ──■────────┤ H ├───────┤ Rz(-1.5872) ├─────┤ H ├──────┤ Rz(0.00075697) ├»\n",
       "«     ┌─┴─┐      ├───┤       └┬────────────┤     ├───┤      └┬──────────────┬┘»\n",
       "«q_3: ┤ X ├──────┤ H ├────────┤ Rz(1.3102) ├─────┤ H ├───────┤ Rz(-0.60215) ├─»\n",
       "«     └───┘      └───┘        └────────────┘     └───┘       └──────────────┘ »\n",
       "«     ┌───┐┌─────────────┐ ┌───┐┌────────────┐                    »\n",
       "«q_0: ┤ H ├┤ Rz(0.17631) ├─┤ H ├┤ Rz(1.3593) ├────────────────────»\n",
       "«     └───┘└─────────────┘ └───┘└───┬───┬────┘ ┌────────────┐┌───┐»\n",
       "«q_1: ──■────────────────────■──────┤ H ├──────┤ Rz(1.6877) ├┤ H ├»\n",
       "«     ┌─┴─┐┌──────────────┐┌─┴─┐    └───┘      └────────────┘└───┘»\n",
       "«q_2: ┤ X ├┤ Rz(0.058065) ├┤ X ├──────■────────────────────────■──»\n",
       "«     └───┘└──────────────┘└───┘    ┌─┴─┐     ┌─────────────┐┌─┴─┐»\n",
       "«q_3: ──────────────────────────────┤ X ├─────┤ Rz(-0.4355) ├┤ X ├»\n",
       "«                                   └───┘     └─────────────┘└───┘»\n",
       "«                                                                \n",
       "«q_0: ───────────────────────────────────────────────────────────\n",
       "«     ┌────────────────┐                                         \n",
       "«q_1: ┤ Rz(3.5378e-05) ├─────────────────────────────────────────\n",
       "«     └─────┬───┬──────┘┌───────────────┐┌───┐┌─────────────────┐\n",
       "«q_2: ──────┤ H ├───────┤ Rz(-0.021246) ├┤ H ├┤ Rz(-0.00078971) ├\n",
       "«           ├───┤       └┬─────────────┬┘├───┤└─┬─────────────┬─┘\n",
       "«q_3: ──────┤ H ├────────┤ Rz(-1.5775) ├─┤ H ├──┤ Rz(0.43585) ├──\n",
       "«           └───┘        └─────────────┘ └───┘  └─────────────┘  "
      ]
     },
     "execution_count": 14,
     "metadata": {},
     "output_type": "execute_result"
    }
   ],
   "source": [
    "from qiskit import QuantumCircuit\n",
    "n = 4\n",
    "qasm_str = qasm_list[0]\n",
    "qc = QuantumCircuit.from_qasm_str(qasm_str)\n",
    "qc.draw()\n"
   ]
  },
  {
   "cell_type": "code",
   "execution_count": 17,
   "metadata": {},
   "outputs": [
    {
     "name": "stdout",
     "output_type": "stream",
     "text": [
      "게이트 수: 76, 회로 깊이 추정: 27\n"
     ]
    }
   ],
   "source": [
    "\n",
    "# 첫 번째 회로 예시\n",
    "\n",
    "from qulacs import QuantumCircuit, QuantumState\n",
    "n = 4\n",
    "qasm_str = qasm_list[0]\n",
    "\n",
    "state = QuantumState(n)\n",
    "circuit = QuantumCircuit(n)\n",
    "\n",
    "def parse_qasm_features(qasm_str):\n",
    "    lines = qasm_str.strip().split(\"\\n\")\n",
    "    gates = [\n",
    "        line.strip() for line in lines\n",
    "        if line and not line.startswith(\"OPENQASM\")\n",
    "        and \"qreg\" not in line and \"creg\" not in line\n",
    "    ]\n",
    "    \n",
    "    gate_count = len(gates)\n",
    "    \n",
    "    # 큐비트 인덱스 추출 (예: q[0], q[1])\n",
    "    qubit_usage = {}\n",
    "    for line in gates:\n",
    "        qubits = list(map(int, re.findall(r\"q\\[(\\d+)\\]\", line)))\n",
    "        for q in qubits:\n",
    "            qubit_usage[q] = qubit_usage.get(q, 0) + 1\n",
    "    \n",
    "    if qubit_usage:\n",
    "        depth = max(qubit_usage.values())\n",
    "    else:\n",
    "        depth = 0\n",
    "    \n",
    "    return gate_count, depth\n",
    "\n",
    "gate_count, depth = parse_qasm_features(qasm_list[0])\n",
    "print(f\"게이트 수: {gate_count}, 회로 깊이 추정: {depth}\")"
   ]
  },
  {
   "cell_type": "code",
   "execution_count": 18,
   "metadata": {},
   "outputs": [
    {
     "name": "stdout",
     "output_type": "stream",
     "text": [
      "   molecule  num_qubits  energy  gate_count  circuit_depth\n",
      "0  Sample_1           4       0          76             27\n",
      "1  Sample_2           4       0         101             36\n",
      "2  Sample_3           4       0         126             45\n",
      "3  Sample_4           4       0         151             54\n",
      "4  Sample_5           4       0         176             63\n"
     ]
    }
   ],
   "source": [
    "import pandas as pd\n",
    "import re\n",
    "\n",
    "# 이미 qasm_list와 labels가 준비되어 있다고 가정\n",
    "# n_qubits는 고정 또는 각 샘플마다 주어질 수도 있음\n",
    "\n",
    "n_qubit = 4  # 예: 고정된 큐비트 수\n",
    "\n",
    "def parse_qasm_features(qasm_str):\n",
    "    lines = qasm_str.strip().split(\"\\n\")\n",
    "    gates = [\n",
    "        line.strip() for line in lines\n",
    "        if line and not line.startswith(\"OPENQASM\")\n",
    "        and \"qreg\" not in line and \"creg\" not in line\n",
    "    ]\n",
    "    gate_count = len(gates)\n",
    "    \n",
    "    qubit_usage = {}\n",
    "    for line in gates:\n",
    "        qubits = list(map(int, re.findall(r\"q\\[(\\d+)\\]\", line)))\n",
    "        for q in qubits:\n",
    "            qubit_usage[q] = qubit_usage.get(q, 0) + 1\n",
    "\n",
    "    depth = max(qubit_usage.values()) if qubit_usage else 0\n",
    "    return gate_count, depth\n",
    "\n",
    "# 🔽 전체 데이터 반복 처리\n",
    "rows = []\n",
    "for i, qasm_str in enumerate(qasm_list):\n",
    "    gate_count, depth = parse_qasm_features(qasm_str)\n",
    "    \n",
    "    rows.append({\n",
    "        \"molecule\": f\"Sample_{i+1}\",\n",
    "        \"num_qubits\": n_qubit,\n",
    "        \"energy\": labels[i],  # VQE 에너지\n",
    "        \"gate_count\": gate_count,\n",
    "        \"circuit_depth\": depth\n",
    "    })\n",
    "\n",
    "df = pd.DataFrame(rows)\n",
    "print(df.head())\n",
    "\n",
    "# ✅ 저장도 가능\n",
    "df.to_csv(\"../data/vqe_qasm_features.csv\", index=False)"
   ]
  },
  {
   "cell_type": "code",
   "execution_count": null,
   "metadata": {},
   "outputs": [],
   "source": []
  },
  {
   "cell_type": "markdown",
   "metadata": {},
   "source": []
  },
  {
   "cell_type": "code",
   "execution_count": 25,
   "metadata": {},
   "outputs": [
    {
     "name": "stdout",
     "output_type": "stream",
     "text": [
      "dict_keys(['ground_energy', 'ground_state'])\n",
      "Ground energy: -8.376798636850356\n",
      "Ground state shape: (16,)\n"
     ]
    }
   ],
   "source": [
    "import joblib\n",
    "\n",
    "# result = joblib.load(\"data/label0.jb\")\n",
    "result = joblib.load(\"../VQE-generated-dataset/data/ground_state/04qubit/label0.jb\")\n",
    "\n",
    "print(result.keys())\n",
    "# dict_keys(['ground_energy', 'ground_state'])\n",
    "\n",
    "print(\"Ground energy:\", result[\"ground_energy\"])\n",
    "print(\"Ground state shape:\", result[\"ground_state\"].shape)"
   ]
  },
  {
   "cell_type": "code",
   "execution_count": 21,
   "metadata": {},
   "outputs": [
    {
     "name": "stdout",
     "output_type": "stream",
     "text": [
      "  molecule  ground_energy  num_qubits\n",
      "0   label0      -8.376799           4\n",
      "1   label1      -7.828427           4\n",
      "2   label2     -15.035654           4\n",
      "3   label3     -18.165151           4\n",
      "4   label4      -2.061553           4\n",
      "(5, 3)\n"
     ]
    }
   ],
   "source": [
    "import joblib\n",
    "import os\n",
    "import pandas as pd\n",
    "import numpy as np\n",
    "\n",
    "folder = \"../../VQE-generated-dataset/data/ground_state/04qubit\"  # `.jb` 파일이 들어있는 폴더 경로\n",
    "data = []\n",
    "\n",
    "for fname in sorted(os.listdir(folder)):\n",
    "    if fname.endswith(\".jb\"):\n",
    "        jb_data = joblib.load(os.path.join(folder, fname))\n",
    "        data.append({\n",
    "            \"molecule\": fname.replace(\".jb\", \"\"),\n",
    "            \"ground_energy\": jb_data[\"ground_energy\"],\n",
    "            \"num_qubits\": int(np.log2(len(jb_data[\"ground_state\"])))  # 예: 16 → 4큐비트\n",
    "        })\n",
    "\n",
    "df = pd.DataFrame(data)\n",
    "df.to_csv(\"vqe_results.csv\", index=False)\n",
    "print(df)\n",
    "print(df.shape)"
   ]
  }
 ],
 "metadata": {
  "kernelspec": {
   "display_name": "qml1w",
   "language": "python",
   "name": "python3"
  },
  "language_info": {
   "codemirror_mode": {
    "name": "ipython",
    "version": 3
   },
   "file_extension": ".py",
   "mimetype": "text/x-python",
   "name": "python",
   "nbconvert_exporter": "python",
   "pygments_lexer": "ipython3",
   "version": "3.9.21"
  }
 },
 "nbformat": 4,
 "nbformat_minor": 2
}
