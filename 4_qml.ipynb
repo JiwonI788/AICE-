{
 "cells": [
  {
   "cell_type": "markdown",
   "metadata": {},
   "source": [
    "## 🎯#2. 실습 : qml \n",
    "\n",
    "QSVM 을 이용한 머신 러닝 모델을 적용하였습니다.\n",
    "- 샘플링 갯수, PCA 차수 축소\n",
    "\n",
    "\n",
    "### 🙏 참고한 자료"
   ]
  },
  {
   "cell_type": "code",
   "execution_count": 13,
   "metadata": {},
   "outputs": [
    {
     "name": "stdout",
     "output_type": "stream",
     "text": [
      "Collecting qiskit-aer\n",
      "  Downloading qiskit_aer-0.17.0-cp39-cp39-macosx_11_0_arm64.whl.metadata (8.2 kB)\n",
      "Requirement already satisfied: qiskit>=1.1.0 in /Users/jiwonju/anaconda3/envs/qml1w/lib/python3.9/site-packages (from qiskit-aer) (1.3.1)\n",
      "Requirement already satisfied: numpy>=1.16.3 in /Users/jiwonju/anaconda3/envs/qml1w/lib/python3.9/site-packages (from qiskit-aer) (2.0.2)\n",
      "Requirement already satisfied: scipy>=1.0 in /Users/jiwonju/anaconda3/envs/qml1w/lib/python3.9/site-packages (from qiskit-aer) (1.13.1)\n",
      "Requirement already satisfied: psutil>=5 in /Users/jiwonju/anaconda3/envs/qml1w/lib/python3.9/site-packages (from qiskit-aer) (5.9.0)\n",
      "Requirement already satisfied: rustworkx>=0.15.0 in /Users/jiwonju/anaconda3/envs/qml1w/lib/python3.9/site-packages (from qiskit>=1.1.0->qiskit-aer) (0.16.0)\n",
      "Requirement already satisfied: sympy>=1.3 in /Users/jiwonju/anaconda3/envs/qml1w/lib/python3.9/site-packages (from qiskit>=1.1.0->qiskit-aer) (1.13.3)\n",
      "Requirement already satisfied: dill>=0.3 in /Users/jiwonju/anaconda3/envs/qml1w/lib/python3.9/site-packages (from qiskit>=1.1.0->qiskit-aer) (0.4.0)\n",
      "Requirement already satisfied: python-dateutil>=2.8.0 in /Users/jiwonju/anaconda3/envs/qml1w/lib/python3.9/site-packages (from qiskit>=1.1.0->qiskit-aer) (2.9.0.post0)\n",
      "Requirement already satisfied: stevedore>=3.0.0 in /Users/jiwonju/anaconda3/envs/qml1w/lib/python3.9/site-packages (from qiskit>=1.1.0->qiskit-aer) (5.4.1)\n",
      "Requirement already satisfied: typing-extensions in /Users/jiwonju/anaconda3/envs/qml1w/lib/python3.9/site-packages (from qiskit>=1.1.0->qiskit-aer) (4.13.2)\n",
      "Requirement already satisfied: symengine<0.14,>=0.11 in /Users/jiwonju/anaconda3/envs/qml1w/lib/python3.9/site-packages (from qiskit>=1.1.0->qiskit-aer) (0.13.0)\n",
      "Requirement already satisfied: six>=1.5 in /Users/jiwonju/anaconda3/envs/qml1w/lib/python3.9/site-packages (from python-dateutil>=2.8.0->qiskit>=1.1.0->qiskit-aer) (1.17.0)\n",
      "Requirement already satisfied: pbr>=2.0.0 in /Users/jiwonju/anaconda3/envs/qml1w/lib/python3.9/site-packages (from stevedore>=3.0.0->qiskit>=1.1.0->qiskit-aer) (6.1.1)\n",
      "Requirement already satisfied: mpmath<1.4,>=1.1.0 in /Users/jiwonju/anaconda3/envs/qml1w/lib/python3.9/site-packages (from sympy>=1.3->qiskit>=1.1.0->qiskit-aer) (1.3.0)\n",
      "Requirement already satisfied: setuptools in /Users/jiwonju/anaconda3/envs/qml1w/lib/python3.9/site-packages (from pbr>=2.0.0->stevedore>=3.0.0->qiskit>=1.1.0->qiskit-aer) (79.0.1)\n",
      "Downloading qiskit_aer-0.17.0-cp39-cp39-macosx_11_0_arm64.whl (2.2 MB)\n",
      "\u001b[2K   \u001b[90m━━━━━━━━━━━━━━━━━━━━━━━━━━━━━━━━━━━━━━━━\u001b[0m \u001b[32m2.2/2.2 MB\u001b[0m \u001b[31m481.2 kB/s\u001b[0m eta \u001b[36m0:00:00\u001b[0ma \u001b[36m0:00:01\u001b[0m\n",
      "\u001b[?25hInstalling collected packages: qiskit-aer\n",
      "Successfully installed qiskit-aer-0.17.0\n"
     ]
    }
   ],
   "source": [
    "# !pip install qiskit-machine-learning --upgrade\n",
    "# !pip show qiskit-machine-learning\n",
    "!pip install qiskit-aer"
   ]
  },
  {
   "cell_type": "code",
   "execution_count": 24,
   "metadata": {},
   "outputs": [],
   "source": [
    "# ▶ 필요한 패키지 설치 (최초 1회만)\n",
    "# pip install qiskit qiskit-machine-learning scikit-learn pandas numpy matplotlib\n",
    "\n",
    "# from qiskit.utils import algorithm_globals\n",
    "from qiskit_algorithms.utils import algorithm_globals\n",
    "from qiskit_machine_learning.kernels import FidelityQuantumKernel#QuantumKernel\n",
    "from qiskit.circuit.library import ZZFeatureMap\n",
    "# from qiskit import BasicAer\n",
    "from qiskit_aer import AerSimulator\n",
    "from sklearn.svm import SVC\n",
    "from sklearn.decomposition import PCA\n",
    "from sklearn.model_selection import train_test_split\n",
    "from sklearn.metrics import classification_report\n",
    "import numpy as np\n",
    "import matplotlib.pyplot as plt\n",
    "from qiskit.primitives import Sampler, StatevectorSampler\n",
    "from qiskit_machine_learning.state_fidelities import ComputeUncompute, BaseStateFidelity\n",
    "\n",
    "# ✅ 이전에 만든 2048차원 fingerprint, label 데이터를 불러온다고 가정\n",
    "# X_features: (N, 2048) ndarray\n",
    "# y: (N,) 0 또는 1\n",
    "X_features = np.load(\"X_features.npy\")\n",
    "y = np.load(\"y_labels.npy\")\n",
    "\n"
   ]
  },
  {
   "cell_type": "code",
   "execution_count": 25,
   "metadata": {},
   "outputs": [
    {
     "name": "stdout",
     "output_type": "stream",
     "text": [
      "              precision    recall  f1-score   support\n",
      "\n",
      "           0       0.46      0.68      0.55        28\n",
      "           1       0.53      0.31      0.39        32\n",
      "\n",
      "    accuracy                           0.48        60\n",
      "   macro avg       0.49      0.50      0.47        60\n",
      "weighted avg       0.50      0.48      0.47        60\n",
      "\n"
     ]
    }
   ],
   "source": [
    "\n",
    "# 1. 샘플 수 제한 (양자 커널은 느림)\n",
    "X_small = X_features[:300]\n",
    "y_small = y[:300]\n",
    "\n",
    "# 2. PCA로 차원 축소 (2차원)\n",
    "pca = PCA(n_components=2)\n",
    "X_pca = pca.fit_transform(X_small)\n",
    "\n",
    "# 3. train/test 분할\n",
    "X_train, X_test, y_train, y_test = train_test_split(X_pca, y_small, test_size=0.2, random_state=42)\n",
    "\n",
    "# 4. 양자 feature map 설정 (2-qubit ZZFeatureMap)\n",
    "feature_map = ZZFeatureMap(feature_dimension=2, reps=2)\n",
    "\n",
    "# 5. Quantum kernel 정의\n",
    "sampler = StatevectorSampler()\n",
    "fidelity = ComputeUncompute(sampler=sampler)#qiskit1.0 이상부터는 AerSimulator(method=\"statevector\")으로 백엔드를 지정하는 대신에, StatevectorSampler를 샢플러로 쓰면 \n",
    "quantum_kernel = FidelityQuantumKernel(feature_map=feature_map, fidelity = fidelity)\n",
    "\n",
    "# 6. QSVM 학습용 커널 행렬 생성\n",
    "kernel_train = quantum_kernel.evaluate(x_vec=X_train)\n",
    "kernel_test = quantum_kernel.evaluate(x_vec=X_test, y_vec=X_train)\n",
    "\n",
    "# 7. SVM 학습 (precomputed kernel 사용)\n",
    "qsvm = SVC(kernel=\"precomputed\")\n",
    "qsvm.fit(kernel_train, y_train)\n",
    "\n",
    "# 8. 예측 및 평가\n",
    "y_pred = qsvm.predict(kernel_test)\n",
    "print(classification_report(y_test, y_pred))"
   ]
  },
  {
   "cell_type": "code",
   "execution_count": 23,
   "metadata": {},
   "outputs": [
    {
     "name": "stdout",
     "output_type": "stream",
     "text": [
      "              precision    recall  f1-score   support\n",
      "\n",
      "           0       0.45      0.61      0.52        28\n",
      "           1       0.50      0.34      0.41        32\n",
      "\n",
      "    accuracy                           0.47        60\n",
      "   macro avg       0.47      0.48      0.46        60\n",
      "weighted avg       0.48      0.47      0.46        60\n",
      "\n"
     ]
    }
   ],
   "source": [
    "\n",
    "# 1. 샘플 수 제한 (양자 커널은 느림)\n",
    "X_small = X_features[:300]\n",
    "y_small = y[:300]\n",
    "\n",
    "# 2. PCA로 차원 축소 (2차원)\n",
    "pca = PCA(n_components=2)\n",
    "X_pca = pca.fit_transform(X_small)\n",
    "\n",
    "# 3. train/test 분할\n",
    "X_train, X_test, y_train, y_test = train_test_split(X_pca, y_small, test_size=0.2, random_state=42)\n",
    "\n",
    "# 4. 양자 feature map 설정 (2-qubit ZZFeatureMap)\n",
    "feature_map = ZZFeatureMap(feature_dimension=2, reps=2)\n",
    "\n",
    "# 5. Quantum kernel 정의\n",
    "sampler = StatevectorSampler()\n",
    "fidelity = ComputeUncompute(sampler=sampler)#qiskit1.0 이상부터는 AerSimulator(method=\"statevector\")으로 백엔드를 지정하는 대신에, StatevectorSampler를 샢플러로 쓰면 \n",
    "quantum_kernel = FidelityQuantumKernel(feature_map=feature_map, fidelity = fidelity)\n",
    "\n",
    "# 6. QSVM 학습용 커널 행렬 생성\n",
    "kernel_train = quantum_kernel.evaluate(x_vec=X_train)\n",
    "kernel_test = quantum_kernel.evaluate(x_vec=X_test, y_vec=X_train)\n",
    "\n",
    "# 7. SVM 학습 (precomputed kernel 사용)\n",
    "qsvm = SVC(kernel=\"precomputed\")\n",
    "qsvm.fit(kernel_train, y_train)\n",
    "\n",
    "# 8. 예측 및 평가\n",
    "y_pred = qsvm.predict(kernel_test)\n",
    "print(classification_report(y_test, y_pred))\n"
   ]
  },
  {
   "cell_type": "code",
   "execution_count": 22,
   "metadata": {},
   "outputs": [
    {
     "name": "stdout",
     "output_type": "stream",
     "text": [
      "[[0. 1. 0. ... 0. 0. 0.]\n",
      " [0. 0. 0. ... 1. 0. 0.]\n",
      " [0. 1. 0. ... 0. 0. 0.]\n",
      " ...\n",
      " [0. 0. 0. ... 0. 0. 0.]\n",
      " [0. 0. 0. ... 0. 0. 0.]\n",
      " [0. 0. 1. ... 0. 0. 0.]]\n",
      "[0 0 0 0 0 0 0 0 0 0 0 0 0 0 0 0 0 0 0 1 1 1 0 0 0 0 0 0 0 0 0 0 0 0 0 0 0\n",
      " 1 0 0 0 0 0 0 0 0 1 0 1 1 1 1 1 0 0 1 0 0 1 1 1 1 0 1 0 0 1 1 1 1 0 1 0 0\n",
      " 1 0 1 0 0 1 1 1 0 0 1 0 0 0 1 1 1 0 1 1 0 0 1 1 1 0 0 1 1 1 1 0 1 1 0 1 1\n",
      " 1 1 1 1 1 1 0 0 0 1 0 0 1 1 1 0 0 1 0 1 0 0 1 0 0 1 1 0 1 1 0 1 1 1 1 0 1\n",
      " 1 1 1 1 1 1 1 1 0 1 1 1 1 0 0 1 0 1 1 0 0 1 1 0 0 1 1 1 1 0 1 1 0 0 0 1 0\n",
      " 1 0 1 1 1 0 1 1 0 0 1 0 0 0 0 1 0 0 0 1 0 1 0 1 1 0 1 0 0 0 0 1 1 0 0 1 1\n",
      " 1 0 1 1 1 1 1 0 0 1 1 0 1 1 0 0 1 0 1 1 1 1 0 1 1 1 1 1 0 1 0 0 0 0 0 0 0\n",
      " 0 0 0 0 0 0 0 1 1 1 1 1 1 0 1 0 1 1 0 1 1 0 1 0 0 1 1 1 1 1 1 1 1 1 1 1 1\n",
      " 1 0 1 1 0 1 0 1 1 1 1 1 1 1 1 1 1 1 1 1 1 0 1 1 1 0 1 0 1 1 1 1 0 0 0 1 1\n",
      " 1 1 0 1 0 1 0 1 1 1 0 1 1 1 1 1 1 1 0 0 0 1 1 1 1 1 1 1 1 1 1 1 0 0 1 0 0\n",
      " 0 1 0 0 1 1 1 1 1 0 1 1 1 1 1 0 1 1 1 0 1 1 0 0 1 1 1 1 1 1 0 1 1 1 1 1 1\n",
      " 1 0 1 1 1 1 1 0 1 1 0 1 1 1 1 1 1 1 1 1 1 1 1 0 1 0 0 1 0 1 1 1 1 1 0 1 1\n",
      " 0 1 0 1 1 0 1 0 1 1 1 1 1 1 1 1 0 0 1 1 1 1 1 1 0 1 1 1 1 1 1 1 1 1 1 0 1\n",
      " 1 1 1 1 1 1 0 1 0 1 1 0 1 1 1 1 1 0 0 1 0 1 0 1 1 1 1 1 0 1 1 0 1 0 1 0 0\n",
      " 1 1 1 0 1 1 1 1 1 1 1 1 1 1 1 0 1 0 0 1 1 1 1 1 1 1 1 1 1 1 1 1 1 1 1 1 1\n",
      " 1 1 1 1 1 1 1 0 0 0 0 0 0 1]\n"
     ]
    }
   ],
   "source": [
    "# print(X_features)\n",
    "# print(y)"
   ]
  },
  {
   "cell_type": "code",
   "execution_count": 30,
   "metadata": {},
   "outputs": [
    {
     "name": "stdout",
     "output_type": "stream",
     "text": [
      "0.48333333333333334\n"
     ]
    },
    {
     "data": {
      "image/png": "[encoded data removed]",
      "text/plain": [
       "<Figure size 640x480 with 2 Axes>"
      ]
     },
     "metadata": {},
     "output_type": "display_data"
    },
    {
     "data": {
      "text/plain": [
       "<Figure size 640x480 with 0 Axes>"
      ]
     },
     "metadata": {},
     "output_type": "display_data"
    }
   ],
   "source": [
    "from sklearn.metrics import accuracy_score, confusion_matrix,ConfusionMatrixDisplay\n",
    "import matplotlib.pyplot as plt\n",
    "\n",
    "accuracy = accuracy_score(y_test, y_pred)\n",
    "print(accuracy)\n",
    "cm = confusion_matrix(y_test, y_pred)\n",
    "disp = ConfusionMatrixDisplay(cm)\n",
    "disp.plot()\n",
    "plt.show()\n",
    "plt.savefig(\"image/hiv_qml.png\")\n"
   ]
  },
  {
   "cell_type": "markdown",
   "metadata": {},
   "source": [
    "## ✍️ 배운 점\n",
    "- \n",
    "\n",
    "## 📌 다음 목표\n",
    "- \n",
    "\n",
    "## 💭궁금한 점 및 추가 정보\n",
    "\n",
    "#### 1. BasicAer vs Aer 차이점\n",
    "| 항목 | `BasicAer` | `Aer` |\n",
    "| -- | -- | -- |\n",
    "|  패키지 | `qiskit.providers.basicaer` | `qiskit-aer` (별도 설치 필요) |\n",
    "| 시뮬레이터 종류 | 간단한 기본 시뮬레이터 | 고성능 고급 시뮬레이터 |\n",
    "| 설치 여부 | Qiskit 기본 포함 | 별도 설치 필요 (`pip install qiskit-aer`) |\n",
    "| 성능 | 느리고 기능 제한 | 빠르고 다양한 옵션 제공 (노이즈, GPU 등) |\n",
    "| 지원 백엔드 | `statevector_simulator`, `qasm_simulator` | `aer_simulator_statevector`, `aer_simulator` 등 |\n",
    "| 활용도 | 단순 실습용 | 실제 연구, 튜닝, 실전 실험용 |\n",
    "| 유지보수 상태  | 거의 업데이트 없음 | 활발히 개발 중 |\n",
    "\n",
    "\n"
   ]
  }
 ],
 "metadata": {
  "kernelspec": {
   "display_name": "qml1w",
   "language": "python",
   "name": "python3"
  },
  "language_info": {
   "codemirror_mode": {
    "name": "ipython",
    "version": 3
   },
   "file_extension": ".py",
   "mimetype": "text/x-python",
   "name": "python",
   "nbconvert_exporter": "python",
   "pygments_lexer": "ipython3",
   "version": "3.9.21"
  }
 },
 "nbformat": 4,
 "nbformat_minor": 2
}
