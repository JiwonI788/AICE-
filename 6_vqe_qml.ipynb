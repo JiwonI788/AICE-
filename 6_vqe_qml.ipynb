{
 "cells": [
  {
   "cell_type": "markdown",
   "metadata": {},
   "source": [
    "## 6. VQE로 수소 분자 에너지 \n",
    "\n",
    "VQE 를 이용해서 분자별 에너지를 계산하였습니다.\n",
    "- 수소 분자 기저에너지\n",
    "\n",
    "\n",
    "### 🙏 참고한 자료\n",
    "- [qiskit - Quantum Kernel Machine Learning](https://qiskit-community.github.io/qiskit-machine-learning/tutorials/03_quantum_kernel.html)"
   ]
  },
  {
   "cell_type": "code",
   "execution_count": null,
   "metadata": {},
   "outputs": [],
   "source": [
    "# !pip install \"qiskit[visualization,nature,algorithms]\"\n",
    "# !pip install qiskit-nature qiskit-algorithms\n",
    "# !pip install --prefer-binary pyscf"
   ]
  },
  {
   "cell_type": "code",
   "execution_count": 9,
   "metadata": {},
   "outputs": [
    {
     "name": "stdout",
     "output_type": "stream",
     "text": [
      "H₂ 분자의 바닥상태 에너지 (VQE): -1.8390470307399696\n"
     ]
    }
   ],
   "source": [
    "from qiskit_nature.second_q.drivers import PySCFDriver\n",
    "from qiskit_nature.second_q.problems import ElectronicStructureProblem\n",
    "from qiskit_nature.second_q.mappers import JordanWignerMapper\n",
    "\n",
    "from qiskit_algorithms import VQE\n",
    "from qiskit_algorithms.optimizers import COBYLA\n",
    "from qiskit.circuit.library import TwoLocal\n",
    "from qiskit_aer.primitives import Estimator as AerEstimator\n",
    "\n",
    "# 1. 수소 분자 설정\n",
    "driver = PySCFDriver(atom='H 0 0 0; H 0 0 0.735', basis='sto3g')\n",
    "problem = driver.run()\n",
    "hamiltonian = problem.hamiltonian.second_q_op()\n",
    "# for label, coeff in sorted(hamiltonian.items()):\n",
    "#     print(f\"{coeff:+.8f} * '{label}'\")\n",
    "    \n",
    "# 2. Second-quantized Hamiltonian 생성\n",
    "# second_q_ops = problem.second_q_ops()\n",
    "# main_op = second_q_ops[0]\n",
    "\n",
    "# 3. 매핑: Jordan-Wigner → Qubit 연산자\n",
    "mapper = JordanWignerMapper()\n",
    "qubit_op = mapper.map(hamiltonian)\n",
    "\n",
    "# 4. Ansatz 및 Optimizer\n",
    "ansatz = TwoLocal(qubit_op.num_qubits, ['ry', 'rz'], 'cx', reps=1)\n",
    "optimizer = COBYLA(maxiter=100)\n",
    "estimator = AerEstimator()  # Qiskit Aer 백엔드 사용\n",
    "\n",
    "# 5. VQE 실행\n",
    "vqe_solver = VQE(ansatz=ansatz, optimizer=optimizer, estimator=estimator)\n",
    "result = vqe_solver.compute_minimum_eigenvalue(qubit_op)\n",
    "\n",
    "# 6. 결과 출력\n",
    "print(\"H₂ 분자의 바닥상태 에너지 (VQE):\", result.eigenvalue.real)\n"
   ]
  },
  {
   "cell_type": "code",
   "execution_count": 8,
   "metadata": {},
   "outputs": [
    {
     "name": "stdout",
     "output_type": "stream",
     "text": [
      "H2 계산 완료: Energy = -1.561368\n",
      "LiH 계산 완료: Energy = -7.865172\n",
      "BeH2 계산 완료: Energy = -14.715826\n",
      "✅ 결과가 vqe_molecule_energies.csv 파일로 저장되었습니다.\n"
     ]
    }
   ],
   "source": [
    "import pandas as pd\n",
    "from qiskit_nature.second_q.drivers import PySCFDriver\n",
    "from qiskit_nature.second_q.problems import ElectronicStructureProblem\n",
    "from qiskit_nature.second_q.mappers import JordanWignerMapper\n",
    "from qiskit_algorithms import VQE\n",
    "from qiskit_algorithms.optimizers import COBYLA\n",
    "from qiskit.circuit.library import TwoLocal\n",
    "from qiskit_aer.primitives import Estimator as AerEstimator\n",
    "\n",
    "# 분자 리스트\n",
    "molecules = [\n",
    "    {\"name\": \"H2\", \"atom\": \"H 0 0 0; H 0 0 0.735\"},\n",
    "    {\"name\": \"LiH\", \"atom\": \"Li 0 0 0; H 0 0 1.6\"},\n",
    "    {\"name\": \"BeH2\", \"atom\": \"Be 0 0 0; H 0 0 1.2; H 0 0 -1.2\"},\n",
    "]\n",
    "\n",
    "results = []\n",
    "\n",
    "for mol in molecules:\n",
    "    try:\n",
    "        driver = PySCFDriver(atom=mol[\"atom\"], basis=\"sto3g\")\n",
    "        problem = driver.run()\n",
    "        hamiltonian = problem.hamiltonian.second_q_op()\n",
    "        second_q_ops = problem.second_q_ops()\n",
    "        main_op = second_q_ops[0]\n",
    "\n",
    "        mapper = JordanWignerMapper()\n",
    "        qubit_op = mapper.map(main_op)\n",
    "\n",
    "        ansatz = TwoLocal(qubit_op.num_qubits, ['ry', 'rz'], 'cx', reps=1)\n",
    "        optimizer = COBYLA(maxiter=100)\n",
    "        estimator = AerEstimator()\n",
    "\n",
    "        vqe_solver = VQE(ansatz=ansatz, optimizer=optimizer, estimator=estimator)\n",
    "        result = vqe_solver.compute_minimum_eigenvalue(qubit_op)\n",
    "\n",
    "        results.append({\n",
    "            \"molecule\": mol[\"name\"],\n",
    "            \"num_qubits\": qubit_op.num_qubits,\n",
    "            \"energy\": result.eigenvalue.real\n",
    "        })\n",
    "\n",
    "        print(f\"{mol['name']} 계산 완료: Energy = {result.eigenvalue.real:.6f}\")\n",
    "\n",
    "    except Exception as e:\n",
    "        print(f\"{mol['name']} 계산 중 오류 발생: {e}\")\n",
    "        results.append({\n",
    "            \"molecule\": mol[\"name\"],\n",
    "            \"num_qubits\": \"Error\",\n",
    "            \"energy\": str(e)\n",
    "        })\n",
    "\n",
    "# CSV 저장\n",
    "df = pd.DataFrame(results)\n",
    "df.to_csv(\"vqe_molecule_energies.csv\", index=False)\n",
    "print(\"✅ 결과가 vqe_molecule_energies.csv 파일로 저장되었습니다.\")\n"
   ]
  }
 ],
 "metadata": {
  "kernelspec": {
   "display_name": "qml1w",
   "language": "python",
   "name": "python3"
  },
  "language_info": {
   "codemirror_mode": {
    "name": "ipython",
    "version": 3
   },
   "file_extension": ".py",
   "mimetype": "text/x-python",
   "name": "python",
   "nbconvert_exporter": "python",
   "pygments_lexer": "ipython3",
   "version": "3.9.21"
  }
 },
 "nbformat": 4,
 "nbformat_minor": 2
}
