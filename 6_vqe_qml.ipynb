{
 "cells": [
  {
   "cell_type": "markdown",
   "metadata": {},
   "source": []
  },
  {
   "cell_type": "code",
   "execution_count": 4,
   "metadata": {},
   "outputs": [
    {
     "name": "stdout",
     "output_type": "stream",
     "text": [
      "Requirement already satisfied: qiskit-nature in /Users/jiwonju/anaconda3/envs/qml1w/lib/python3.9/site-packages (0.7.2)\n",
      "Requirement already satisfied: qiskit-algorithms in /Users/jiwonju/anaconda3/envs/qml1w/lib/python3.9/site-packages (0.3.1)\n",
      "Requirement already satisfied: qiskit>=0.44 in /Users/jiwonju/anaconda3/envs/qml1w/lib/python3.9/site-packages (from qiskit-nature) (1.3.1)\n",
      "Requirement already satisfied: scipy>=1.4 in /Users/jiwonju/anaconda3/envs/qml1w/lib/python3.9/site-packages (from qiskit-nature) (1.13.1)\n",
      "Requirement already satisfied: numpy>=1.17 in /Users/jiwonju/anaconda3/envs/qml1w/lib/python3.9/site-packages (from qiskit-nature) (2.0.2)\n",
      "Requirement already satisfied: psutil>=5 in /Users/jiwonju/anaconda3/envs/qml1w/lib/python3.9/site-packages (from qiskit-nature) (5.9.0)\n",
      "Requirement already satisfied: setuptools>=40.1.0 in /Users/jiwonju/anaconda3/envs/qml1w/lib/python3.9/site-packages (from qiskit-nature) (79.0.1)\n",
      "Requirement already satisfied: typing-extensions in /Users/jiwonju/anaconda3/envs/qml1w/lib/python3.9/site-packages (from qiskit-nature) (4.13.2)\n",
      "Requirement already satisfied: h5py in /Users/jiwonju/anaconda3/envs/qml1w/lib/python3.9/site-packages (from qiskit-nature) (3.13.0)\n",
      "Requirement already satisfied: rustworkx>=0.12 in /Users/jiwonju/anaconda3/envs/qml1w/lib/python3.9/site-packages (from qiskit-nature) (0.16.0)\n",
      "Requirement already satisfied: sympy>=1.3 in /Users/jiwonju/anaconda3/envs/qml1w/lib/python3.9/site-packages (from qiskit>=0.44->qiskit-nature) (1.13.3)\n",
      "Requirement already satisfied: dill>=0.3 in /Users/jiwonju/anaconda3/envs/qml1w/lib/python3.9/site-packages (from qiskit>=0.44->qiskit-nature) (0.4.0)\n",
      "Requirement already satisfied: python-dateutil>=2.8.0 in /Users/jiwonju/anaconda3/envs/qml1w/lib/python3.9/site-packages (from qiskit>=0.44->qiskit-nature) (2.9.0.post0)\n",
      "Requirement already satisfied: stevedore>=3.0.0 in /Users/jiwonju/anaconda3/envs/qml1w/lib/python3.9/site-packages (from qiskit>=0.44->qiskit-nature) (5.4.1)\n",
      "Requirement already satisfied: symengine<0.14,>=0.11 in /Users/jiwonju/anaconda3/envs/qml1w/lib/python3.9/site-packages (from qiskit>=0.44->qiskit-nature) (0.13.0)\n",
      "Requirement already satisfied: six>=1.5 in /Users/jiwonju/anaconda3/envs/qml1w/lib/python3.9/site-packages (from python-dateutil>=2.8.0->qiskit>=0.44->qiskit-nature) (1.17.0)\n",
      "Requirement already satisfied: pbr>=2.0.0 in /Users/jiwonju/anaconda3/envs/qml1w/lib/python3.9/site-packages (from stevedore>=3.0.0->qiskit>=0.44->qiskit-nature) (6.1.1)\n",
      "Requirement already satisfied: mpmath<1.4,>=1.1.0 in /Users/jiwonju/anaconda3/envs/qml1w/lib/python3.9/site-packages (from sympy>=1.3->qiskit>=0.44->qiskit-nature) (1.3.0)\n"
     ]
    }
   ],
   "source": [
    "# !pip install \"qiskit[visualization,nature,algorithms]\"\n",
    "!pip install qiskit-nature qiskit-algorithms"
   ]
  },
  {
   "cell_type": "code",
   "execution_count": 5,
   "metadata": {},
   "outputs": [
    {
     "ename": "ModuleNotFoundError",
     "evalue": "No module named 'qiskit_nature.second_q.converters'",
     "output_type": "error",
     "traceback": [
      "\u001b[0;31m---------------------------------------------------------------------------\u001b[0m",
      "\u001b[0;31mModuleNotFoundError\u001b[0m                       Traceback (most recent call last)",
      "Cell \u001b[0;32mIn[5], line 4\u001b[0m\n\u001b[1;32m      2\u001b[0m \u001b[38;5;28;01mfrom\u001b[39;00m\u001b[38;5;250m \u001b[39m\u001b[38;5;21;01mqiskit_nature\u001b[39;00m\u001b[38;5;21;01m.\u001b[39;00m\u001b[38;5;21;01msecond_q\u001b[39;00m\u001b[38;5;21;01m.\u001b[39;00m\u001b[38;5;21;01mproblems\u001b[39;00m\u001b[38;5;250m \u001b[39m\u001b[38;5;28;01mimport\u001b[39;00m ElectronicStructureProblem\n\u001b[1;32m      3\u001b[0m \u001b[38;5;28;01mfrom\u001b[39;00m\u001b[38;5;250m \u001b[39m\u001b[38;5;21;01mqiskit_nature\u001b[39;00m\u001b[38;5;21;01m.\u001b[39;00m\u001b[38;5;21;01msecond_q\u001b[39;00m\u001b[38;5;21;01m.\u001b[39;00m\u001b[38;5;21;01mmappers\u001b[39;00m\u001b[38;5;250m \u001b[39m\u001b[38;5;28;01mimport\u001b[39;00m JordanWignerMapper\n\u001b[0;32m----> 4\u001b[0m \u001b[38;5;28;01mfrom\u001b[39;00m\u001b[38;5;250m \u001b[39m\u001b[38;5;21;01mqiskit_nature\u001b[39;00m\u001b[38;5;21;01m.\u001b[39;00m\u001b[38;5;21;01msecond_q\u001b[39;00m\u001b[38;5;21;01m.\u001b[39;00m\u001b[38;5;21;01mconverters\u001b[39;00m\u001b[38;5;250m \u001b[39m\u001b[38;5;28;01mimport\u001b[39;00m QubitConverter\n\u001b[1;32m      6\u001b[0m \u001b[38;5;28;01mfrom\u001b[39;00m\u001b[38;5;250m \u001b[39m\u001b[38;5;21;01mqiskit\u001b[39;00m\u001b[38;5;21;01m.\u001b[39;00m\u001b[38;5;21;01malgorithms\u001b[39;00m\u001b[38;5;250m \u001b[39m\u001b[38;5;28;01mimport\u001b[39;00m VQE\n\u001b[1;32m      7\u001b[0m \u001b[38;5;28;01mfrom\u001b[39;00m\u001b[38;5;250m \u001b[39m\u001b[38;5;21;01mqiskit\u001b[39;00m\u001b[38;5;21;01m.\u001b[39;00m\u001b[38;5;21;01malgorithms\u001b[39;00m\u001b[38;5;21;01m.\u001b[39;00m\u001b[38;5;21;01moptimizers\u001b[39;00m\u001b[38;5;250m \u001b[39m\u001b[38;5;28;01mimport\u001b[39;00m COBYLA\n",
      "\u001b[0;31mModuleNotFoundError\u001b[0m: No module named 'qiskit_nature.second_q.converters'"
     ]
    }
   ],
   "source": [
    "from qiskit_nature.second_q.drivers import PySCFDriver\n",
    "from qiskit_nature.second_q.problems import ElectronicStructureProblem\n",
    "from qiskit_nature.second_q.mappers import JordanWignerMapper\n",
    "from qiskit_nature.second_q.converters import QubitConverter\n",
    "\n",
    "from qiskit.algorithms import VQE\n",
    "from qiskit.algorithms.optimizers import COBYLA\n",
    "from qiskit.circuit.library import TwoLocal\n",
    "from qiskit_aer.primitives import Estimator as AerEstimator\n",
    "\n",
    "# 1. 수소 분자 설정\n",
    "driver = PySCFDriver(atom='H 0 0 0; H 0 0 0.735', basis='sto3g')\n",
    "problem = ElectronicStructureProblem(driver)\n",
    "\n",
    "# 2. Second-quantized Hamiltonian 생성\n",
    "second_q_ops = problem.second_q_ops()\n",
    "main_op = second_q_ops[0]\n",
    "\n",
    "# 3. 매핑: Jordan-Wigner → Qubit 연산자\n",
    "mapper = JordanWignerMapper()\n",
    "converter = QubitConverter(mapper=mapper)\n",
    "qubit_op = converter.convert(main_op, num_particles=problem.num_particles)\n",
    "\n",
    "# 4. Ansatz 및 Optimizer\n",
    "ansatz = TwoLocal(qubit_op.num_qubits, ['ry', 'rz'], 'cx', reps=1)\n",
    "optimizer = COBYLA(maxiter=100)\n",
    "estimator = AerEstimator()  # Qiskit Aer 백엔드 사용\n",
    "\n",
    "# 5. VQE 실행\n",
    "vqe_solver = VQE(ansatz=ansatz, optimizer=optimizer, estimator=estimator)\n",
    "result = vqe_solver.compute_minimum_eigenvalue(qubit_op)\n",
    "\n",
    "# 6. 결과 출력\n",
    "print(\"H₂ 분자의 바닥상태 에너지 (VQE):\", result.eigenvalue.real)\n"
   ]
  },
  {
   "cell_type": "code",
   "execution_count": 2,
   "metadata": {},
   "outputs": [
    {
     "ename": "ModuleNotFoundError",
     "evalue": "No module named 'qiskit_nature.second_q.converters'",
     "output_type": "error",
     "traceback": [
      "\u001b[0;31m---------------------------------------------------------------------------\u001b[0m",
      "\u001b[0;31mModuleNotFoundError\u001b[0m                       Traceback (most recent call last)",
      "Cell \u001b[0;32mIn[2], line 4\u001b[0m\n\u001b[1;32m      2\u001b[0m \u001b[38;5;28;01mfrom\u001b[39;00m\u001b[38;5;250m \u001b[39m\u001b[38;5;21;01mqiskit_nature\u001b[39;00m\u001b[38;5;21;01m.\u001b[39;00m\u001b[38;5;21;01msecond_q\u001b[39;00m\u001b[38;5;21;01m.\u001b[39;00m\u001b[38;5;21;01mproblems\u001b[39;00m\u001b[38;5;250m \u001b[39m\u001b[38;5;28;01mimport\u001b[39;00m ElectronicStructureProblem\n\u001b[1;32m      3\u001b[0m \u001b[38;5;28;01mfrom\u001b[39;00m\u001b[38;5;250m \u001b[39m\u001b[38;5;21;01mqiskit_nature\u001b[39;00m\u001b[38;5;21;01m.\u001b[39;00m\u001b[38;5;21;01msecond_q\u001b[39;00m\u001b[38;5;21;01m.\u001b[39;00m\u001b[38;5;21;01mmappers\u001b[39;00m\u001b[38;5;250m \u001b[39m\u001b[38;5;28;01mimport\u001b[39;00m JordanWignerMapper\n\u001b[0;32m----> 4\u001b[0m \u001b[38;5;28;01mfrom\u001b[39;00m\u001b[38;5;250m \u001b[39m\u001b[38;5;21;01mqiskit_nature\u001b[39;00m\u001b[38;5;21;01m.\u001b[39;00m\u001b[38;5;21;01msecond_q\u001b[39;00m\u001b[38;5;21;01m.\u001b[39;00m\u001b[38;5;21;01mconverters\u001b[39;00m\u001b[38;5;250m \u001b[39m\u001b[38;5;28;01mimport\u001b[39;00m QubitConverter\n\u001b[1;32m      6\u001b[0m \u001b[38;5;28;01mfrom\u001b[39;00m\u001b[38;5;250m \u001b[39m\u001b[38;5;21;01mqiskit\u001b[39;00m\u001b[38;5;21;01m.\u001b[39;00m\u001b[38;5;21;01malgorithms\u001b[39;00m\u001b[38;5;21;01m.\u001b[39;00m\u001b[38;5;21;01mminimum_eigensolvers\u001b[39;00m\u001b[38;5;250m \u001b[39m\u001b[38;5;28;01mimport\u001b[39;00m VQE\n\u001b[1;32m      7\u001b[0m \u001b[38;5;28;01mfrom\u001b[39;00m\u001b[38;5;250m \u001b[39m\u001b[38;5;21;01mqiskit\u001b[39;00m\u001b[38;5;21;01m.\u001b[39;00m\u001b[38;5;21;01malgorithms\u001b[39;00m\u001b[38;5;21;01m.\u001b[39;00m\u001b[38;5;21;01moptimizers\u001b[39;00m\u001b[38;5;250m \u001b[39m\u001b[38;5;28;01mimport\u001b[39;00m COBYLA\n",
      "\u001b[0;31mModuleNotFoundError\u001b[0m: No module named 'qiskit_nature.second_q.converters'"
     ]
    }
   ],
   "source": [
    "from qiskit_nature.second_q.drivers import PySCFDriver\n",
    "from qiskit_nature.second_q.problems import ElectronicStructureProblem\n",
    "from qiskit_nature.second_q.mappers import JordanWignerMapper\n",
    "from qiskit_nature.second_q.converters import QubitConverter\n",
    "\n",
    "from qiskit.algorithms.minimum_eigensolvers import VQE\n",
    "from qiskit.algorithms.optimizers import COBYLA\n",
    "from qiskit_nature.circuit.library import UCCSD\n",
    "from qiskit.circuit.library import TwoLocal\n",
    "from qiskit.primitives import Estimator\n",
    "from qiskit_aer.primitives import Estimator as AerEstimator\n",
    "\n",
    "# 1. 수소 분자 정의 (H-H 거리 0.735 Å)\n",
    "driver = PySCFDriver(atom='H .0 .0 .0; H .0 .0 .735', basis='sto3g')\n",
    "es_problem = ElectronicStructureProblem(driver)\n",
    "\n",
    "# 2. 해밀토니안 생성\n",
    "second_q_op = es_problem.second_q_ops()\n",
    "main_op = second_q_op[0]\n",
    "\n",
    "# 3. 매핑 (페르미온 → 큐비트)\n",
    "mapper = JordanWignerMapper()\n",
    "converter = QubitConverter(mapper=mapper)\n",
    "qubit_op = converter.convert(main_op, es_problem.num_particles)\n",
    "\n",
    "# 4. Ansatz & Optimizer 정의\n",
    "ansatz = TwoLocal(qubit_op.num_qubits, ['ry', 'rz'], 'cx', reps=1)\n",
    "optimizer = COBYLA(maxiter=100)\n",
    "estimator = AerEstimator()\n",
    "\n",
    "# 5. VQE 알고리즘 구성 및 실행\n",
    "vqe_solver = VQE(ansatz=ansatz, optimizer=optimizer, estimator=estimator)\n",
    "result = vqe_solver.compute_minimum_eigenvalue(qubit_op)\n",
    "\n",
    "# 6. 결과 출력\n",
    "print(\"H₂ 분자의 바닥상태 에너지 (VQE):\", result.eigenvalue.real)\n"
   ]
  },
  {
   "cell_type": "code",
   "execution_count": null,
   "metadata": {},
   "outputs": [],
   "source": []
  }
 ],
 "metadata": {
  "kernelspec": {
   "display_name": "qml1w",
   "language": "python",
   "name": "python3"
  },
  "language_info": {
   "codemirror_mode": {
    "name": "ipython",
    "version": 3
   },
   "file_extension": ".py",
   "mimetype": "text/x-python",
   "name": "python",
   "nbconvert_exporter": "python",
   "pygments_lexer": "ipython3",
   "version": "3.9.21"
  }
 },
 "nbformat": 4,
 "nbformat_minor": 2
}
